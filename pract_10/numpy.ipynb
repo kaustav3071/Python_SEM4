{
 "cells": [
  {
   "cell_type": "code",
   "id": "initial_id",
   "metadata": {
    "collapsed": true,
    "ExecuteTime": {
     "end_time": "2025-03-12T08:50:03.095076Z",
     "start_time": "2025-03-12T08:50:02.970570Z"
    }
   },
   "source": "import numpy as np",
   "outputs": [],
   "execution_count": 2
  },
  {
   "metadata": {
    "ExecuteTime": {
     "end_time": "2025-03-12T08:50:14.813980Z",
     "start_time": "2025-03-12T08:50:14.756456Z"
    }
   },
   "cell_type": "code",
   "source": [
    "print(np.__version__)\n",
    "np.show_config()"
   ],
   "id": "2d189cad5eac1cb7",
   "outputs": [
    {
     "name": "stdout",
     "output_type": "stream",
     "text": [
      "2.2.3\n",
      "Build Dependencies:\n",
      "  blas:\n",
      "    detection method: pkgconfig\n",
      "    found: true\n",
      "    include directory: C:/Users/runneradmin/AppData/Local/Temp/cibw-run-u8afkksu/cp313-win_amd64/build/venv/Lib/site-packages/scipy_openblas64/include\n",
      "    lib directory: C:/Users/runneradmin/AppData/Local/Temp/cibw-run-u8afkksu/cp313-win_amd64/build/venv/Lib/site-packages/scipy_openblas64/lib\n",
      "    name: scipy-openblas\n",
      "    openblas configuration: OpenBLAS 0.3.28  USE64BITINT DYNAMIC_ARCH NO_AFFINITY\n",
      "      Haswell MAX_THREADS=24\n",
      "    pc file directory: D:/a/numpy/numpy/.openblas\n",
      "    version: 0.3.28\n",
      "  lapack:\n",
      "    detection method: pkgconfig\n",
      "    found: true\n",
      "    include directory: C:/Users/runneradmin/AppData/Local/Temp/cibw-run-u8afkksu/cp313-win_amd64/build/venv/Lib/site-packages/scipy_openblas64/include\n",
      "    lib directory: C:/Users/runneradmin/AppData/Local/Temp/cibw-run-u8afkksu/cp313-win_amd64/build/venv/Lib/site-packages/scipy_openblas64/lib\n",
      "    name: scipy-openblas\n",
      "    openblas configuration: OpenBLAS 0.3.28  USE64BITINT DYNAMIC_ARCH NO_AFFINITY\n",
      "      Haswell MAX_THREADS=24\n",
      "    pc file directory: D:/a/numpy/numpy/.openblas\n",
      "    version: 0.3.28\n",
      "Compilers:\n",
      "  c:\n",
      "    commands: cl\n",
      "    linker: link\n",
      "    name: msvc\n",
      "    version: 19.29.30158\n",
      "  c++:\n",
      "    commands: cl\n",
      "    linker: link\n",
      "    name: msvc\n",
      "    version: 19.29.30158\n",
      "  cython:\n",
      "    commands: cython\n",
      "    linker: cython\n",
      "    name: cython\n",
      "    version: 3.0.12\n",
      "Machine Information:\n",
      "  build:\n",
      "    cpu: x86_64\n",
      "    endian: little\n",
      "    family: x86_64\n",
      "    system: windows\n",
      "  host:\n",
      "    cpu: x86_64\n",
      "    endian: little\n",
      "    family: x86_64\n",
      "    system: windows\n",
      "Python Information:\n",
      "  path: C:\\Users\\runneradmin\\AppData\\Local\\Temp\\build-env-vu_ki1u0\\Scripts\\python.exe\n",
      "  version: '3.13'\n",
      "SIMD Extensions:\n",
      "  baseline:\n",
      "  - SSE\n",
      "  - SSE2\n",
      "  - SSE3\n",
      "  found:\n",
      "  - SSSE3\n",
      "  - SSE41\n",
      "  - POPCNT\n",
      "  - SSE42\n",
      "  - AVX\n",
      "  - F16C\n",
      "  - FMA3\n",
      "  - AVX2\n",
      "  - AVX512F\n",
      "  - AVX512CD\n",
      "  - AVX512_SKX\n",
      "  - AVX512_CLX\n",
      "  - AVX512_CNL\n",
      "  - AVX512_ICL\n",
      "\n"
     ]
    }
   ],
   "execution_count": 3
  },
  {
   "metadata": {
    "ExecuteTime": {
     "end_time": "2025-03-12T08:50:28.713839Z",
     "start_time": "2025-03-12T08:50:28.705828Z"
    }
   },
   "cell_type": "code",
   "source": [
    "Z = np.zeros(10)\n",
    "print(Z)"
   ],
   "id": "eb326fe48f478640",
   "outputs": [
    {
     "name": "stdout",
     "output_type": "stream",
     "text": [
      "[0. 0. 0. 0. 0. 0. 0. 0. 0. 0.]\n"
     ]
    }
   ],
   "execution_count": 4
  },
  {
   "metadata": {
    "ExecuteTime": {
     "end_time": "2025-03-12T08:50:35.887906Z",
     "start_time": "2025-03-12T08:50:35.883627Z"
    }
   },
   "cell_type": "code",
   "source": [
    "Z = np.zeros((10,10))\n",
    "print(\"%d bytes\" % (Z.size * Z.itemsize))"
   ],
   "id": "9dca55c31878479a",
   "outputs": [
    {
     "name": "stdout",
     "output_type": "stream",
     "text": [
      "800 bytes\n"
     ]
    }
   ],
   "execution_count": 5
  },
  {
   "metadata": {
    "ExecuteTime": {
     "end_time": "2025-03-12T08:50:55.582368Z",
     "start_time": "2025-03-12T08:50:55.492039Z"
    }
   },
   "cell_type": "code",
   "source": "%run `python -c \"import numpy; numpy.info(numpy.add)\"`",
   "id": "2bd347907cd805e8",
   "outputs": [
    {
     "ename": "Exception",
     "evalue": "File `'`python'` not found.",
     "output_type": "error",
     "traceback": [
      "\u001B[31m---------------------------------------------------------------------------\u001B[39m",
      "\u001B[31mOSError\u001B[39m                                   Traceback (most recent call last)",
      "\u001B[36mFile \u001B[39m\u001B[32m~\\OneDrive\\Desktop\\python 4th\\Python sem4\\.venv1\\Lib\\site-packages\\IPython\\core\\magics\\execution.py:727\u001B[39m, in \u001B[36mExecutionMagics.run\u001B[39m\u001B[34m(self, parameter_s, runner, file_finder)\u001B[39m\n\u001B[32m    726\u001B[39m     fpath = arg_lst[\u001B[32m0\u001B[39m]\n\u001B[32m--> \u001B[39m\u001B[32m727\u001B[39m     filename = \u001B[43mfile_finder\u001B[49m\u001B[43m(\u001B[49m\u001B[43mfpath\u001B[49m\u001B[43m)\u001B[49m\n\u001B[32m    728\u001B[39m \u001B[38;5;28;01mexcept\u001B[39;00m \u001B[38;5;167;01mIndexError\u001B[39;00m \u001B[38;5;28;01mas\u001B[39;00m e:\n",
      "\u001B[36mFile \u001B[39m\u001B[32m~\\OneDrive\\Desktop\\python 4th\\Python sem4\\.venv1\\Lib\\site-packages\\IPython\\utils\\path.py:90\u001B[39m, in \u001B[36mget_py_filename\u001B[39m\u001B[34m(name)\u001B[39m\n\u001B[32m     89\u001B[39m         \u001B[38;5;28;01mreturn\u001B[39;00m py_name\n\u001B[32m---> \u001B[39m\u001B[32m90\u001B[39m \u001B[38;5;28;01mraise\u001B[39;00m \u001B[38;5;167;01mIOError\u001B[39;00m(\u001B[33m\"\u001B[39m\u001B[33mFile `\u001B[39m\u001B[38;5;132;01m%r\u001B[39;00m\u001B[33m` not found.\u001B[39m\u001B[33m\"\u001B[39m % name)\n",
      "\u001B[31mOSError\u001B[39m: File `'`python'` not found.",
      "\nThe above exception was the direct cause of the following exception:\n",
      "\u001B[31mException\u001B[39m                                 Traceback (most recent call last)",
      "\u001B[36mCell\u001B[39m\u001B[36m \u001B[39m\u001B[32mIn[8]\u001B[39m\u001B[32m, line 1\u001B[39m\n\u001B[32m----> \u001B[39m\u001B[32m1\u001B[39m \u001B[43mget_ipython\u001B[49m\u001B[43m(\u001B[49m\u001B[43m)\u001B[49m\u001B[43m.\u001B[49m\u001B[43mrun_line_magic\u001B[49m\u001B[43m(\u001B[49m\u001B[33;43m'\u001B[39;49m\u001B[33;43mrun\u001B[39;49m\u001B[33;43m'\u001B[39;49m\u001B[43m,\u001B[49m\u001B[43m \u001B[49m\u001B[33;43m'\u001B[39;49m\u001B[33;43m`python -c \u001B[39;49m\u001B[33;43m\"\u001B[39;49m\u001B[33;43mimport numpy; numpy.info(numpy.add)\u001B[39;49m\u001B[33;43m\"\u001B[39;49m\u001B[33;43m`\u001B[39;49m\u001B[33;43m'\u001B[39;49m\u001B[43m)\u001B[49m\n",
      "\u001B[36mFile \u001B[39m\u001B[32m~\\OneDrive\\Desktop\\python 4th\\Python sem4\\.venv1\\Lib\\site-packages\\IPython\\core\\interactiveshell.py:2481\u001B[39m, in \u001B[36mInteractiveShell.run_line_magic\u001B[39m\u001B[34m(self, magic_name, line, _stack_depth)\u001B[39m\n\u001B[32m   2479\u001B[39m     kwargs[\u001B[33m'\u001B[39m\u001B[33mlocal_ns\u001B[39m\u001B[33m'\u001B[39m] = \u001B[38;5;28mself\u001B[39m.get_local_scope(stack_depth)\n\u001B[32m   2480\u001B[39m \u001B[38;5;28;01mwith\u001B[39;00m \u001B[38;5;28mself\u001B[39m.builtin_trap:\n\u001B[32m-> \u001B[39m\u001B[32m2481\u001B[39m     result = \u001B[43mfn\u001B[49m\u001B[43m(\u001B[49m\u001B[43m*\u001B[49m\u001B[43margs\u001B[49m\u001B[43m,\u001B[49m\u001B[43m \u001B[49m\u001B[43m*\u001B[49m\u001B[43m*\u001B[49m\u001B[43mkwargs\u001B[49m\u001B[43m)\u001B[49m\n\u001B[32m   2483\u001B[39m \u001B[38;5;66;03m# The code below prevents the output from being displayed\u001B[39;00m\n\u001B[32m   2484\u001B[39m \u001B[38;5;66;03m# when using magics with decorator @output_can_be_silenced\u001B[39;00m\n\u001B[32m   2485\u001B[39m \u001B[38;5;66;03m# when the last Python token in the expression is a ';'.\u001B[39;00m\n\u001B[32m   2486\u001B[39m \u001B[38;5;28;01mif\u001B[39;00m \u001B[38;5;28mgetattr\u001B[39m(fn, magic.MAGIC_OUTPUT_CAN_BE_SILENCED, \u001B[38;5;28;01mFalse\u001B[39;00m):\n",
      "\u001B[36mFile \u001B[39m\u001B[32m~\\OneDrive\\Desktop\\python 4th\\Python sem4\\.venv1\\Lib\\site-packages\\IPython\\core\\magics\\execution.py:738\u001B[39m, in \u001B[36mExecutionMagics.run\u001B[39m\u001B[34m(self, parameter_s, runner, file_finder)\u001B[39m\n\u001B[32m    736\u001B[39m     \u001B[38;5;28;01mif\u001B[39;00m os.name == \u001B[33m'\u001B[39m\u001B[33mnt\u001B[39m\u001B[33m'\u001B[39m \u001B[38;5;129;01mand\u001B[39;00m re.match(\u001B[33mr\u001B[39m\u001B[33m\"\u001B[39m\u001B[33m^\u001B[39m\u001B[33m'\u001B[39m\u001B[33m.*\u001B[39m\u001B[33m'\u001B[39m\u001B[33m$\u001B[39m\u001B[33m\"\u001B[39m,fpath):\n\u001B[32m    737\u001B[39m         warn(\u001B[33m'\u001B[39m\u001B[33mFor Windows, use double quotes to wrap a filename: \u001B[39m\u001B[38;5;132;01m%r\u001B[39;00m\u001B[33mun \u001B[39m\u001B[33m\"\u001B[39m\u001B[33mmypath\u001B[39m\u001B[38;5;130;01m\\\\\u001B[39;00m\u001B[33mmyfile.py\u001B[39m\u001B[33m\"\u001B[39m\u001B[33m'\u001B[39m)\n\u001B[32m--> \u001B[39m\u001B[32m738\u001B[39m     \u001B[38;5;28;01mraise\u001B[39;00m \u001B[38;5;167;01mException\u001B[39;00m(msg) \u001B[38;5;28;01mfrom\u001B[39;00m\u001B[38;5;250m \u001B[39m\u001B[34;01me\u001B[39;00m\n\u001B[32m    739\u001B[39m \u001B[38;5;28;01mexcept\u001B[39;00m \u001B[38;5;167;01mTypeError\u001B[39;00m:\n\u001B[32m    740\u001B[39m     \u001B[38;5;28;01mif\u001B[39;00m fpath \u001B[38;5;129;01min\u001B[39;00m sys.meta_path:\n",
      "\u001B[31mException\u001B[39m: File `'`python'` not found."
     ]
    }
   ],
   "execution_count": 8
  },
  {
   "metadata": {
    "ExecuteTime": {
     "end_time": "2025-03-12T08:51:12.193472Z",
     "start_time": "2025-03-12T08:51:12.173930Z"
    }
   },
   "cell_type": "code",
   "source": [
    "Z = np.zeros(10)\n",
    "Z[4] = 1\n",
    "print(Z)"
   ],
   "id": "9b9f88f1a97ed3eb",
   "outputs": [
    {
     "name": "stdout",
     "output_type": "stream",
     "text": [
      "[0. 0. 0. 0. 1. 0. 0. 0. 0. 0.]\n"
     ]
    }
   ],
   "execution_count": 9
  },
  {
   "metadata": {
    "ExecuteTime": {
     "end_time": "2025-03-12T08:51:26.533788Z",
     "start_time": "2025-03-12T08:51:26.518826Z"
    }
   },
   "cell_type": "code",
   "source": [
    "Z = np.arange(10,50)\n",
    "print(Z)"
   ],
   "id": "298f7e12c88fe5d4",
   "outputs": [
    {
     "name": "stdout",
     "output_type": "stream",
     "text": [
      "[10 11 12 13 14 15 16 17 18 19 20 21 22 23 24 25 26 27 28 29 30 31 32 33\n",
      " 34 35 36 37 38 39 40 41 42 43 44 45 46 47 48 49]\n"
     ]
    }
   ],
   "execution_count": 10
  },
  {
   "metadata": {
    "ExecuteTime": {
     "end_time": "2025-03-12T08:51:35.652178Z",
     "start_time": "2025-03-12T08:51:35.645959Z"
    }
   },
   "cell_type": "code",
   "source": [
    "Z = np.arange(50)\n",
    "Z = Z[::-1]\n",
    "print(Z)"
   ],
   "id": "da6d8be6aa764b6c",
   "outputs": [
    {
     "name": "stdout",
     "output_type": "stream",
     "text": [
      "[49 48 47 46 45 44 43 42 41 40 39 38 37 36 35 34 33 32 31 30 29 28 27 26\n",
      " 25 24 23 22 21 20 19 18 17 16 15 14 13 12 11 10  9  8  7  6  5  4  3  2\n",
      "  1  0]\n"
     ]
    }
   ],
   "execution_count": 11
  },
  {
   "metadata": {
    "ExecuteTime": {
     "end_time": "2025-03-12T08:51:41.950883Z",
     "start_time": "2025-03-12T08:51:41.947081Z"
    }
   },
   "cell_type": "code",
   "source": [
    "Z = np.arange(9).reshape(3,3)\n",
    "print(Z)"
   ],
   "id": "39b314bb0f9f381b",
   "outputs": [
    {
     "name": "stdout",
     "output_type": "stream",
     "text": [
      "[[0 1 2]\n",
      " [3 4 5]\n",
      " [6 7 8]]\n"
     ]
    }
   ],
   "execution_count": 12
  },
  {
   "metadata": {
    "ExecuteTime": {
     "end_time": "2025-03-12T08:51:46.920688Z",
     "start_time": "2025-03-12T08:51:46.915167Z"
    }
   },
   "cell_type": "code",
   "source": [
    "nz = np.nonzero([1,2,0,0,4,0])\n",
    "print(nz)"
   ],
   "id": "80dd4712a67b7760",
   "outputs": [
    {
     "name": "stdout",
     "output_type": "stream",
     "text": [
      "(array([0, 1, 4]),)\n"
     ]
    }
   ],
   "execution_count": 13
  },
  {
   "metadata": {
    "ExecuteTime": {
     "end_time": "2025-03-12T08:51:59.545989Z",
     "start_time": "2025-03-12T08:51:59.539229Z"
    }
   },
   "cell_type": "code",
   "source": [
    "Z = np.eye(3)\n",
    "print(Z)"
   ],
   "id": "77e045aa9632e953",
   "outputs": [
    {
     "name": "stdout",
     "output_type": "stream",
     "text": [
      "[[1. 0. 0.]\n",
      " [0. 1. 0.]\n",
      " [0. 0. 1.]]\n"
     ]
    }
   ],
   "execution_count": 14
  },
  {
   "metadata": {
    "ExecuteTime": {
     "end_time": "2025-03-12T08:52:05.928261Z",
     "start_time": "2025-03-12T08:52:05.874586Z"
    }
   },
   "cell_type": "code",
   "source": [
    "Z = np.random.random((3,3,3))\n",
    "print(Z)"
   ],
   "id": "b42eb667eb561fb9",
   "outputs": [
    {
     "name": "stdout",
     "output_type": "stream",
     "text": [
      "[[[0.63614388 0.14580471 0.54679636]\n",
      "  [0.9028338  0.62931864 0.30603883]\n",
      "  [0.13283283 0.06026995 0.15578622]]\n",
      "\n",
      " [[0.43281743 0.58500372 0.44219861]\n",
      "  [0.82986079 0.29896058 0.46653468]\n",
      "  [0.37413994 0.98293917 0.43151977]]\n",
      "\n",
      " [[0.37009    0.07104516 0.23431463]\n",
      "  [0.28212146 0.21386052 0.12398587]\n",
      "  [0.20596372 0.99852183 0.2614164 ]]]\n"
     ]
    }
   ],
   "execution_count": 15
  },
  {
   "metadata": {
    "ExecuteTime": {
     "end_time": "2025-03-12T08:52:12.187030Z",
     "start_time": "2025-03-12T08:52:12.182343Z"
    }
   },
   "cell_type": "code",
   "source": [
    "Z = np.random.random((10,10))\n",
    "Zmin, Zmax = Z.min(), Z.max()\n",
    "print(Zmin, Zmax)"
   ],
   "id": "56c7b49f98df40b6",
   "outputs": [
    {
     "name": "stdout",
     "output_type": "stream",
     "text": [
      "0.011345613263570864 0.99753956954974\n"
     ]
    }
   ],
   "execution_count": 16
  },
  {
   "metadata": {
    "ExecuteTime": {
     "end_time": "2025-03-12T08:52:24.999593Z",
     "start_time": "2025-03-12T08:52:24.994585Z"
    }
   },
   "cell_type": "code",
   "source": [
    "Z = np.random.random(30)\n",
    "m = Z.mean()\n",
    "print(m)"
   ],
   "id": "c8cd2998e36b4f19",
   "outputs": [
    {
     "name": "stdout",
     "output_type": "stream",
     "text": [
      "0.4713740926935784\n"
     ]
    }
   ],
   "execution_count": 17
  },
  {
   "metadata": {
    "ExecuteTime": {
     "end_time": "2025-03-12T08:52:30.506706Z",
     "start_time": "2025-03-12T08:52:30.501261Z"
    }
   },
   "cell_type": "code",
   "source": [
    "Z = np.ones((10,10))\n",
    "Z[1:-1,1:-1] = 0\n",
    "print(Z)"
   ],
   "id": "1ab2fe93b19fdda8",
   "outputs": [
    {
     "name": "stdout",
     "output_type": "stream",
     "text": [
      "[[1. 1. 1. 1. 1. 1. 1. 1. 1. 1.]\n",
      " [1. 0. 0. 0. 0. 0. 0. 0. 0. 1.]\n",
      " [1. 0. 0. 0. 0. 0. 0. 0. 0. 1.]\n",
      " [1. 0. 0. 0. 0. 0. 0. 0. 0. 1.]\n",
      " [1. 0. 0. 0. 0. 0. 0. 0. 0. 1.]\n",
      " [1. 0. 0. 0. 0. 0. 0. 0. 0. 1.]\n",
      " [1. 0. 0. 0. 0. 0. 0. 0. 0. 1.]\n",
      " [1. 0. 0. 0. 0. 0. 0. 0. 0. 1.]\n",
      " [1. 0. 0. 0. 0. 0. 0. 0. 0. 1.]\n",
      " [1. 1. 1. 1. 1. 1. 1. 1. 1. 1.]]\n"
     ]
    }
   ],
   "execution_count": 18
  },
  {
   "metadata": {
    "ExecuteTime": {
     "end_time": "2025-03-12T08:52:36.748546Z",
     "start_time": "2025-03-12T08:52:36.738472Z"
    }
   },
   "cell_type": "code",
   "source": [
    "Z = np.ones((5,5))\n",
    "Z = np.pad(Z, pad_width=1, mode='constant', constant_values=0)\n",
    "print(Z)"
   ],
   "id": "1c75d0280c48075",
   "outputs": [
    {
     "name": "stdout",
     "output_type": "stream",
     "text": [
      "[[0. 0. 0. 0. 0. 0. 0.]\n",
      " [0. 1. 1. 1. 1. 1. 0.]\n",
      " [0. 1. 1. 1. 1. 1. 0.]\n",
      " [0. 1. 1. 1. 1. 1. 0.]\n",
      " [0. 1. 1. 1. 1. 1. 0.]\n",
      " [0. 1. 1. 1. 1. 1. 0.]\n",
      " [0. 0. 0. 0. 0. 0. 0.]]\n"
     ]
    }
   ],
   "execution_count": 19
  },
  {
   "metadata": {
    "ExecuteTime": {
     "end_time": "2025-03-12T08:52:42.415438Z",
     "start_time": "2025-03-12T08:52:42.411141Z"
    }
   },
   "cell_type": "code",
   "source": [
    "print(0 * np.nan)\n",
    "print(np.nan == np.nan)\n",
    "print(np.inf > np.nan)\n",
    "print(np.nan - np.nan)\n",
    "print(np.nan in set([np.nan]))\n",
    "print(0.3 == 3 * 0.1)"
   ],
   "id": "cd6d2d6daf2526c",
   "outputs": [
    {
     "name": "stdout",
     "output_type": "stream",
     "text": [
      "nan\n",
      "False\n",
      "False\n",
      "nan\n",
      "True\n",
      "False\n"
     ]
    }
   ],
   "execution_count": 20
  },
  {
   "metadata": {
    "ExecuteTime": {
     "end_time": "2025-03-12T08:52:48.313581Z",
     "start_time": "2025-03-12T08:52:48.308381Z"
    }
   },
   "cell_type": "code",
   "source": [
    "Z = np.diag(1+np.arange(4),k=-1)\n",
    "print(Z)"
   ],
   "id": "5967f624eebb55f9",
   "outputs": [
    {
     "name": "stdout",
     "output_type": "stream",
     "text": [
      "[[0 0 0 0 0]\n",
      " [1 0 0 0 0]\n",
      " [0 2 0 0 0]\n",
      " [0 0 3 0 0]\n",
      " [0 0 0 4 0]]\n"
     ]
    }
   ],
   "execution_count": 21
  },
  {
   "metadata": {
    "ExecuteTime": {
     "end_time": "2025-03-12T08:52:53.472215Z",
     "start_time": "2025-03-12T08:52:53.467388Z"
    }
   },
   "cell_type": "code",
   "source": [
    "Z = np.zeros((8,8),dtype=int)\n",
    "Z[1::2,::2] = 1\n",
    "Z[::2,1::2] = 1\n",
    "print(Z)"
   ],
   "id": "acbce1935ae4ec6f",
   "outputs": [
    {
     "name": "stdout",
     "output_type": "stream",
     "text": [
      "[[0 1 0 1 0 1 0 1]\n",
      " [1 0 1 0 1 0 1 0]\n",
      " [0 1 0 1 0 1 0 1]\n",
      " [1 0 1 0 1 0 1 0]\n",
      " [0 1 0 1 0 1 0 1]\n",
      " [1 0 1 0 1 0 1 0]\n",
      " [0 1 0 1 0 1 0 1]\n",
      " [1 0 1 0 1 0 1 0]]\n"
     ]
    }
   ],
   "execution_count": 22
  },
  {
   "metadata": {
    "ExecuteTime": {
     "end_time": "2025-03-12T08:53:00.980554Z",
     "start_time": "2025-03-12T08:53:00.976657Z"
    }
   },
   "cell_type": "code",
   "source": "print(np.unravel_index(100,(6,7,8)))",
   "id": "62c80aada9a88dfd",
   "outputs": [
    {
     "name": "stdout",
     "output_type": "stream",
     "text": [
      "(np.int64(1), np.int64(5), np.int64(4))\n"
     ]
    }
   ],
   "execution_count": 23
  },
  {
   "metadata": {
    "ExecuteTime": {
     "end_time": "2025-03-12T08:53:05.663881Z",
     "start_time": "2025-03-12T08:53:05.658754Z"
    }
   },
   "cell_type": "code",
   "source": [
    "Z = np.tile( np.array([[0,1],[1,0]]), (4,4))\n",
    "print(Z)"
   ],
   "id": "ade7bc61cde41365",
   "outputs": [
    {
     "name": "stdout",
     "output_type": "stream",
     "text": [
      "[[0 1 0 1 0 1 0 1]\n",
      " [1 0 1 0 1 0 1 0]\n",
      " [0 1 0 1 0 1 0 1]\n",
      " [1 0 1 0 1 0 1 0]\n",
      " [0 1 0 1 0 1 0 1]\n",
      " [1 0 1 0 1 0 1 0]\n",
      " [0 1 0 1 0 1 0 1]\n",
      " [1 0 1 0 1 0 1 0]]\n"
     ]
    }
   ],
   "execution_count": 24
  },
  {
   "metadata": {
    "ExecuteTime": {
     "end_time": "2025-03-12T08:53:11.067937Z",
     "start_time": "2025-03-12T08:53:11.062189Z"
    }
   },
   "cell_type": "code",
   "source": [
    "Z = np.random.random((5,5))\n",
    "Z = (Z - np.mean (Z)) / (np.std (Z))\n",
    "print(Z)"
   ],
   "id": "728cc26a8a40bae7",
   "outputs": [
    {
     "name": "stdout",
     "output_type": "stream",
     "text": [
      "[[-1.72848288  0.57252198 -0.06938724 -0.12976298 -0.22632754]\n",
      " [-0.95436629  0.53557314  0.95822202 -0.34972711 -1.24714727]\n",
      " [ 1.02734104 -1.84460845  1.51937036 -0.43343251  1.31146578]\n",
      " [ 0.80271475  0.14342444  0.10009051  1.32648514  0.8366955 ]\n",
      " [-0.30614133 -1.5322539   0.77524766 -1.63357802  0.54606321]]\n"
     ]
    }
   ],
   "execution_count": 25
  },
  {
   "metadata": {
    "ExecuteTime": {
     "end_time": "2025-03-12T08:53:28.252467Z",
     "start_time": "2025-03-12T08:53:28.248853Z"
    }
   },
   "cell_type": "code",
   "source": [
    "color = np.dtype([(\"r\", np.ubyte, 1),\n",
    "                  (\"g\", np.ubyte, 1),\n",
    "                  (\"b\", np.ubyte, 1),\n",
    "                  (\"a\", np.ubyte, 1)])"
   ],
   "id": "5bd2054b11cf6c91",
   "outputs": [],
   "execution_count": 27
  },
  {
   "metadata": {
    "ExecuteTime": {
     "end_time": "2025-03-12T08:53:39.314611Z",
     "start_time": "2025-03-12T08:53:39.307537Z"
    }
   },
   "cell_type": "code",
   "source": [
    "Z = np.dot(np.ones((5,3)), np.ones((3,2)))\n",
    "print(Z)\n",
    "\n",
    "# Alternative solution, in Python 3.5 and above\n",
    "Z = np.ones((5,3)) @ np.ones((3,2))"
   ],
   "id": "41032a54eabf43e8",
   "outputs": [
    {
     "name": "stdout",
     "output_type": "stream",
     "text": [
      "[[3. 3.]\n",
      " [3. 3.]\n",
      " [3. 3.]\n",
      " [3. 3.]\n",
      " [3. 3.]]\n"
     ]
    }
   ],
   "execution_count": 28
  },
  {
   "metadata": {
    "ExecuteTime": {
     "end_time": "2025-03-12T08:53:45.417984Z",
     "start_time": "2025-03-12T08:53:45.413380Z"
    }
   },
   "cell_type": "code",
   "source": [
    "# Author: Evgeni Burovski\n",
    "\n",
    "Z = np.arange(11)\n",
    "Z[(3 < Z) & (Z <= 8)] *= -1\n",
    "print(Z)"
   ],
   "id": "3788cd097d4667cd",
   "outputs": [
    {
     "name": "stdout",
     "output_type": "stream",
     "text": [
      "[ 0  1  2  3 -4 -5 -6 -7 -8  9 10]\n"
     ]
    }
   ],
   "execution_count": 29
  },
  {
   "metadata": {
    "ExecuteTime": {
     "end_time": "2025-03-12T08:53:51.686227Z",
     "start_time": "2025-03-12T08:53:51.177873Z"
    }
   },
   "cell_type": "code",
   "source": [
    "# Author: Jake VanderPlas\n",
    "\n",
    "print(sum(range(5),-1))\n",
    "from numpy import *\n",
    "print(sum(range(5),-1))"
   ],
   "id": "eee1efaec18ad23e",
   "outputs": [
    {
     "name": "stdout",
     "output_type": "stream",
     "text": [
      "9\n",
      "10\n"
     ]
    }
   ],
   "execution_count": 30
  },
  {
   "metadata": {
    "ExecuteTime": {
     "end_time": "2025-03-12T08:53:57.304957Z",
     "start_time": "2025-03-12T08:53:57.267593Z"
    }
   },
   "cell_type": "code",
   "source": [
    "Z**Z\n",
    "2 << Z >> 2\n",
    "Z <- Z\n",
    "1j*Z\n",
    "Z/1/1\n",
    "Z<Z>Z"
   ],
   "id": "488a677b470fda16",
   "outputs": [
    {
     "ename": "ValueError",
     "evalue": "Integers to negative integer powers are not allowed.",
     "output_type": "error",
     "traceback": [
      "\u001B[31m---------------------------------------------------------------------------\u001B[39m",
      "\u001B[31mValueError\u001B[39m                                Traceback (most recent call last)",
      "\u001B[36mCell\u001B[39m\u001B[36m \u001B[39m\u001B[32mIn[31]\u001B[39m\u001B[32m, line 1\u001B[39m\n\u001B[32m----> \u001B[39m\u001B[32m1\u001B[39m \u001B[43mZ\u001B[49m\u001B[43m*\u001B[49m\u001B[43m*\u001B[49m\u001B[43mZ\u001B[49m\n\u001B[32m      2\u001B[39m \u001B[32m2\u001B[39m << Z >> \u001B[32m2\u001B[39m\n\u001B[32m      3\u001B[39m Z <- Z\n",
      "\u001B[31mValueError\u001B[39m: Integers to negative integer powers are not allowed."
     ]
    }
   ],
   "execution_count": 31
  },
  {
   "metadata": {
    "ExecuteTime": {
     "end_time": "2025-03-12T08:54:04.381895Z",
     "start_time": "2025-03-12T08:54:04.375685Z"
    }
   },
   "cell_type": "code",
   "source": [
    "print(np.array(0) / np.array(0))\n",
    "print(np.array(0) // np.array(0))\n",
    "print(np.array([np.nan]).astype(int).astype(float))"
   ],
   "id": "59eaa75682064d03",
   "outputs": [
    {
     "name": "stdout",
     "output_type": "stream",
     "text": [
      "nan\n",
      "0\n",
      "[-9.22337204e+18]\n"
     ]
    },
    {
     "name": "stderr",
     "output_type": "stream",
     "text": [
      "C:\\Users\\Kaustav Das\\AppData\\Local\\Temp\\ipykernel_12484\\1422587819.py:1: RuntimeWarning: invalid value encountered in divide\n",
      "  print(np.array(0) / np.array(0))\n",
      "C:\\Users\\Kaustav Das\\AppData\\Local\\Temp\\ipykernel_12484\\1422587819.py:2: RuntimeWarning: divide by zero encountered in floor_divide\n",
      "  print(np.array(0) // np.array(0))\n",
      "C:\\Users\\Kaustav Das\\AppData\\Local\\Temp\\ipykernel_12484\\1422587819.py:3: RuntimeWarning: invalid value encountered in cast\n",
      "  print(np.array([np.nan]).astype(int).astype(float))\n"
     ]
    }
   ],
   "execution_count": 32
  },
  {
   "metadata": {
    "ExecuteTime": {
     "end_time": "2025-03-12T08:54:17.139270Z",
     "start_time": "2025-03-12T08:54:17.131503Z"
    }
   },
   "cell_type": "code",
   "source": [
    "# Author: Charles R Harris\n",
    "\n",
    "Z = np.random.uniform(-10,+10,10)\n",
    "print (np.copysign(np.ceil(np.abs(Z)), Z))"
   ],
   "id": "c25ddd039413a94e",
   "outputs": [
    {
     "name": "stdout",
     "output_type": "stream",
     "text": [
      "[-10.  -5.   8.   3.   4.   7.  -7.   2.  -9.  -3.]\n"
     ]
    }
   ],
   "execution_count": 33
  },
  {
   "metadata": {
    "ExecuteTime": {
     "end_time": "2025-03-12T08:54:22.642612Z",
     "start_time": "2025-03-12T08:54:22.632474Z"
    }
   },
   "cell_type": "code",
   "source": [
    "Z1 = np.random.randint(0,10,10)\n",
    "Z2 = np.random.randint(0,10,10)\n",
    "print(np.intersect1d(Z1,Z2))"
   ],
   "id": "d8231376c8842e07",
   "outputs": [
    {
     "name": "stdout",
     "output_type": "stream",
     "text": [
      "[2 3 5 6 7]\n"
     ]
    }
   ],
   "execution_count": 34
  },
  {
   "metadata": {
    "ExecuteTime": {
     "end_time": "2025-03-12T08:54:41.997782Z",
     "start_time": "2025-03-12T08:54:41.992823Z"
    }
   },
   "cell_type": "code",
   "source": [
    "# Suicide mode on\n",
    "defaults = np.seterr(all=\"ignore\")\n",
    "Z = np.ones(1) / 0\n",
    "\n",
    "# Back to sanity\n",
    "_ = np.seterr(**defaults)\n",
    "\n",
    "# An equivalent way, with a context manager:\n",
    "\n",
    "with np.errstate(divide='ignore'):\n",
    "    Z = np.ones(1) / 0"
   ],
   "id": "d6037d022e3095d2",
   "outputs": [],
   "execution_count": 35
  },
  {
   "metadata": {
    "ExecuteTime": {
     "end_time": "2025-03-12T08:54:48.299810Z",
     "start_time": "2025-03-12T08:54:48.269772Z"
    }
   },
   "cell_type": "code",
   "source": "np.sqrt(-1) == np.emath.sqrt(-1)",
   "id": "3a30f17cb243d43c",
   "outputs": [
    {
     "name": "stderr",
     "output_type": "stream",
     "text": [
      "C:\\Users\\Kaustav Das\\AppData\\Local\\Temp\\ipykernel_12484\\2961820512.py:1: RuntimeWarning: invalid value encountered in sqrt\n",
      "  np.sqrt(-1) == np.emath.sqrt(-1)\n"
     ]
    },
    {
     "data": {
      "text/plain": [
       "np.False_"
      ]
     },
     "execution_count": 36,
     "metadata": {},
     "output_type": "execute_result"
    }
   ],
   "execution_count": 36
  },
  {
   "metadata": {
    "ExecuteTime": {
     "end_time": "2025-03-12T08:54:56.603285Z",
     "start_time": "2025-03-12T08:54:56.598470Z"
    }
   },
   "cell_type": "code",
   "source": [
    "yesterday = np.datetime64('today', 'D') - np.timedelta64(1, 'D')\n",
    "today     = np.datetime64('today', 'D')\n",
    "tomorrow  = np.datetime64('today', 'D') + np.timedelta64(1, 'D')"
   ],
   "id": "fa63e95a9c94b5aa",
   "outputs": [],
   "execution_count": 37
  },
  {
   "metadata": {
    "ExecuteTime": {
     "end_time": "2025-03-12T08:56:47.147779Z",
     "start_time": "2025-03-12T08:56:47.141347Z"
    }
   },
   "cell_type": "code",
   "source": [
    "Z = np.arange('2016-07', '2016-08', dtype='datetime64[D]')\n",
    "print(Z)"
   ],
   "id": "97c2806ea8cef291",
   "outputs": [
    {
     "name": "stdout",
     "output_type": "stream",
     "text": [
      "['2016-07-01' '2016-07-02' '2016-07-03' '2016-07-04' '2016-07-05'\n",
      " '2016-07-06' '2016-07-07' '2016-07-08' '2016-07-09' '2016-07-10'\n",
      " '2016-07-11' '2016-07-12' '2016-07-13' '2016-07-14' '2016-07-15'\n",
      " '2016-07-16' '2016-07-17' '2016-07-18' '2016-07-19' '2016-07-20'\n",
      " '2016-07-21' '2016-07-22' '2016-07-23' '2016-07-24' '2016-07-25'\n",
      " '2016-07-26' '2016-07-27' '2016-07-28' '2016-07-29' '2016-07-30'\n",
      " '2016-07-31']\n"
     ]
    }
   ],
   "execution_count": 38
  },
  {
   "metadata": {
    "ExecuteTime": {
     "end_time": "2025-03-12T08:56:52.800196Z",
     "start_time": "2025-03-12T08:56:52.794419Z"
    }
   },
   "cell_type": "code",
   "source": [
    "A = np.ones(3)*1\n",
    "B = np.ones(3)*2\n",
    "C = np.ones(3)*3\n",
    "np.add(A,B,out=B)\n",
    "np.divide(A,2,out=A)\n",
    "np.negative(A,out=A)\n",
    "np.multiply(A,B,out=A)"
   ],
   "id": "dee944af6f3e6daf",
   "outputs": [
    {
     "data": {
      "text/plain": [
       "array([-1.5, -1.5, -1.5])"
      ]
     },
     "execution_count": 39,
     "metadata": {},
     "output_type": "execute_result"
    }
   ],
   "execution_count": 39
  },
  {
   "metadata": {
    "ExecuteTime": {
     "end_time": "2025-03-12T08:56:58.626996Z",
     "start_time": "2025-03-12T08:56:58.621357Z"
    }
   },
   "cell_type": "code",
   "source": [
    "Z = np.random.uniform(0,10,10)\n",
    "\n",
    "print (Z - Z%1)\n",
    "print (np.floor(Z))\n",
    "print (np.ceil(Z)-1)\n",
    "print (Z.astype(int))\n",
    "print (np.trunc(Z))"
   ],
   "id": "6ac6d3eab1c3f31b",
   "outputs": [
    {
     "name": "stdout",
     "output_type": "stream",
     "text": [
      "[6. 0. 7. 4. 0. 7. 2. 2. 1. 1.]\n",
      "[6. 0. 7. 4. 0. 7. 2. 2. 1. 1.]\n",
      "[6. 0. 7. 4. 0. 7. 2. 2. 1. 1.]\n",
      "[6 0 7 4 0 7 2 2 1 1]\n",
      "[6. 0. 7. 4. 0. 7. 2. 2. 1. 1.]\n"
     ]
    }
   ],
   "execution_count": 40
  },
  {
   "metadata": {
    "ExecuteTime": {
     "end_time": "2025-03-12T08:57:04.509711Z",
     "start_time": "2025-03-12T08:57:04.505056Z"
    }
   },
   "cell_type": "code",
   "source": [
    "Z = np.zeros((5,5))\n",
    "Z += np.arange(5)\n",
    "print(Z)"
   ],
   "id": "d6306e86871bcd47",
   "outputs": [
    {
     "name": "stdout",
     "output_type": "stream",
     "text": [
      "[[0. 1. 2. 3. 4.]\n",
      " [0. 1. 2. 3. 4.]\n",
      " [0. 1. 2. 3. 4.]\n",
      " [0. 1. 2. 3. 4.]\n",
      " [0. 1. 2. 3. 4.]]\n"
     ]
    }
   ],
   "execution_count": 41
  },
  {
   "metadata": {
    "ExecuteTime": {
     "end_time": "2025-03-12T08:57:09.795541Z",
     "start_time": "2025-03-12T08:57:09.789883Z"
    }
   },
   "cell_type": "code",
   "source": [
    "def generate():\n",
    "    for x in range(10):\n",
    "        yield x\n",
    "Z = np.fromiter(generate(),dtype=float,count=-1)\n",
    "print(Z)"
   ],
   "id": "60ccfc3e687a3043",
   "outputs": [
    {
     "name": "stdout",
     "output_type": "stream",
     "text": [
      "[0. 1. 2. 3. 4. 5. 6. 7. 8. 9.]\n"
     ]
    }
   ],
   "execution_count": 42
  },
  {
   "metadata": {
    "ExecuteTime": {
     "end_time": "2025-03-12T08:57:19.222861Z",
     "start_time": "2025-03-12T08:57:19.217136Z"
    }
   },
   "cell_type": "code",
   "source": [
    "Z = np.linspace(0,1,11,endpoint=False)[1:]\n",
    "print(Z)"
   ],
   "id": "a8e3f7b4d36bb9c6",
   "outputs": [
    {
     "name": "stdout",
     "output_type": "stream",
     "text": [
      "[0.09090909 0.18181818 0.27272727 0.36363636 0.45454545 0.54545455\n",
      " 0.63636364 0.72727273 0.81818182 0.90909091]\n"
     ]
    }
   ],
   "execution_count": 43
  },
  {
   "metadata": {
    "ExecuteTime": {
     "end_time": "2025-03-12T08:57:24.061511Z",
     "start_time": "2025-03-12T08:57:24.055554Z"
    }
   },
   "cell_type": "code",
   "source": [
    "Z = np.random.random(10)\n",
    "Z.sort()\n",
    "print(Z)"
   ],
   "id": "cbfa15ae8e2c57ce",
   "outputs": [
    {
     "name": "stdout",
     "output_type": "stream",
     "text": [
      "[0.08487004 0.08933571 0.17649425 0.61482582 0.72614255 0.74846448\n",
      " 0.83552273 0.85343179 0.86345926 0.97219644]\n"
     ]
    }
   ],
   "execution_count": 44
  },
  {
   "metadata": {
    "ExecuteTime": {
     "end_time": "2025-03-12T08:57:29.933370Z",
     "start_time": "2025-03-12T08:57:29.926858Z"
    }
   },
   "cell_type": "code",
   "source": [
    "# Author: Evgeni Burovski\n",
    "\n",
    "Z = np.arange(10)\n",
    "np.add.reduce(Z)"
   ],
   "id": "c4e1db962fc9732b",
   "outputs": [
    {
     "data": {
      "text/plain": [
       "np.int64(45)"
      ]
     },
     "execution_count": 45,
     "metadata": {},
     "output_type": "execute_result"
    }
   ],
   "execution_count": 45
  },
  {
   "metadata": {
    "ExecuteTime": {
     "end_time": "2025-03-12T08:57:38.673771Z",
     "start_time": "2025-03-12T08:57:38.667638Z"
    }
   },
   "cell_type": "code",
   "source": [
    "A = np.random.randint(0,2,5)\n",
    "B = np.random.randint(0,2,5)\n",
    "\n",
    "# Assuming identical shape of the arrays and a tolerance for the comparison of values\n",
    "equal = np.allclose(A,B)\n",
    "print(equal)\n",
    "\n",
    "# Checking both the shape and the element values, no tolerance (values have to be exactly equal)\n",
    "equal = np.array_equal(A,B)\n",
    "print(equal)"
   ],
   "id": "fad765d213033105",
   "outputs": [
    {
     "name": "stdout",
     "output_type": "stream",
     "text": [
      "False\n",
      "False\n"
     ]
    }
   ],
   "execution_count": 46
  },
  {
   "metadata": {
    "ExecuteTime": {
     "end_time": "2025-03-12T08:57:45.331238Z",
     "start_time": "2025-03-12T08:57:45.291338Z"
    }
   },
   "cell_type": "code",
   "source": [
    "Z = np.zeros(10)\n",
    "Z.flags.writeable = False\n",
    "Z[0] = 1"
   ],
   "id": "4adb8eb91a3302e4",
   "outputs": [
    {
     "ename": "ValueError",
     "evalue": "assignment destination is read-only",
     "output_type": "error",
     "traceback": [
      "\u001B[31m---------------------------------------------------------------------------\u001B[39m",
      "\u001B[31mValueError\u001B[39m                                Traceback (most recent call last)",
      "\u001B[36mCell\u001B[39m\u001B[36m \u001B[39m\u001B[32mIn[47]\u001B[39m\u001B[32m, line 3\u001B[39m\n\u001B[32m      1\u001B[39m Z = np.zeros(\u001B[32m10\u001B[39m)\n\u001B[32m      2\u001B[39m Z.flags.writeable = \u001B[38;5;28;01mFalse\u001B[39;00m\n\u001B[32m----> \u001B[39m\u001B[32m3\u001B[39m \u001B[43mZ\u001B[49m\u001B[43m[\u001B[49m\u001B[32;43m0\u001B[39;49m\u001B[43m]\u001B[49m = \u001B[32m1\u001B[39m\n",
      "\u001B[31mValueError\u001B[39m: assignment destination is read-only"
     ]
    }
   ],
   "execution_count": 47
  },
  {
   "metadata": {
    "ExecuteTime": {
     "end_time": "2025-03-12T08:57:52.805561Z",
     "start_time": "2025-03-12T08:57:52.799676Z"
    }
   },
   "cell_type": "code",
   "source": [
    "Z = np.random.random((10,2))\n",
    "X,Y = Z[:,0], Z[:,1]\n",
    "R = np.sqrt(X**2+Y**2)\n",
    "T = np.arctan2(Y,X)\n",
    "print(R)\n",
    "print(T)"
   ],
   "id": "46485c3b7eb18e2c",
   "outputs": [
    {
     "name": "stdout",
     "output_type": "stream",
     "text": [
      "[0.92168075 0.67853462 0.37440542 0.86305126 0.71982918 0.6940002\n",
      " 1.02264636 0.6181177  0.94260267 0.7034683 ]\n",
      "[1.52245934 0.65595927 0.5558813  0.97529386 0.04286519 1.10867982\n",
      " 0.58307613 0.23262747 0.4239825  1.46421629]\n"
     ]
    }
   ],
   "execution_count": 48
  },
  {
   "metadata": {
    "ExecuteTime": {
     "end_time": "2025-03-12T08:57:58.767536Z",
     "start_time": "2025-03-12T08:57:58.761301Z"
    }
   },
   "cell_type": "code",
   "source": [
    "Z = np.random.random(10)\n",
    "Z[Z.argmax()] = 0\n",
    "print(Z)"
   ],
   "id": "1d11eff862b1cf90",
   "outputs": [
    {
     "name": "stdout",
     "output_type": "stream",
     "text": [
      "[0.38792751 0.53320471 0.5092824  0.32800723 0.         0.13152759\n",
      " 0.40359236 0.01514377 0.20856351 0.46868969]\n"
     ]
    }
   ],
   "execution_count": 49
  },
  {
   "metadata": {
    "ExecuteTime": {
     "end_time": "2025-03-12T08:58:03.594855Z",
     "start_time": "2025-03-12T08:58:03.589027Z"
    }
   },
   "cell_type": "code",
   "source": [
    "Z = np.zeros((5,5), [('x',float),('y',float)])\n",
    "Z['x'], Z['y'] = np.meshgrid(np.linspace(0,1,5),\n",
    "                             np.linspace(0,1,5))\n",
    "print(Z)"
   ],
   "id": "b59a72e6326ae1e0",
   "outputs": [
    {
     "name": "stdout",
     "output_type": "stream",
     "text": [
      "[[(0.  , 0.  ) (0.25, 0.  ) (0.5 , 0.  ) (0.75, 0.  ) (1.  , 0.  )]\n",
      " [(0.  , 0.25) (0.25, 0.25) (0.5 , 0.25) (0.75, 0.25) (1.  , 0.25)]\n",
      " [(0.  , 0.5 ) (0.25, 0.5 ) (0.5 , 0.5 ) (0.75, 0.5 ) (1.  , 0.5 )]\n",
      " [(0.  , 0.75) (0.25, 0.75) (0.5 , 0.75) (0.75, 0.75) (1.  , 0.75)]\n",
      " [(0.  , 1.  ) (0.25, 1.  ) (0.5 , 1.  ) (0.75, 1.  ) (1.  , 1.  )]]\n"
     ]
    }
   ],
   "execution_count": 50
  },
  {
   "metadata": {
    "ExecuteTime": {
     "end_time": "2025-03-12T08:58:10.169623Z",
     "start_time": "2025-03-12T08:58:10.160172Z"
    }
   },
   "cell_type": "code",
   "source": [
    "# Author: Evgeni Burovski\n",
    "\n",
    "X = np.arange(8)\n",
    "Y = X + 0.5\n",
    "C = 1.0 / np.subtract.outer(X, Y)\n",
    "print(np.linalg.det(C))"
   ],
   "id": "77cab3920b04d19f",
   "outputs": [
    {
     "name": "stdout",
     "output_type": "stream",
     "text": [
      "3638.1636371179666\n"
     ]
    }
   ],
   "execution_count": 51
  },
  {
   "metadata": {
    "ExecuteTime": {
     "end_time": "2025-03-12T08:58:17.279710Z",
     "start_time": "2025-03-12T08:58:17.273151Z"
    }
   },
   "cell_type": "code",
   "source": [
    "for dtype in [np.int8, np.int32, np.int64]:\n",
    "   print(np.iinfo(dtype).min)\n",
    "   print(np.iinfo(dtype).max)\n",
    "for dtype in [np.float32, np.float64]:\n",
    "   print(np.finfo(dtype).min)\n",
    "   print(np.finfo(dtype).max)\n",
    "   print(np.finfo(dtype).eps)"
   ],
   "id": "b735cb3ef563ae76",
   "outputs": [
    {
     "name": "stdout",
     "output_type": "stream",
     "text": [
      "-128\n",
      "127\n",
      "-2147483648\n",
      "2147483647\n",
      "-9223372036854775808\n",
      "9223372036854775807\n",
      "-3.4028235e+38\n",
      "3.4028235e+38\n",
      "1.1920929e-07\n",
      "-1.7976931348623157e+308\n",
      "1.7976931348623157e+308\n",
      "2.220446049250313e-16\n"
     ]
    }
   ],
   "execution_count": 52
  },
  {
   "metadata": {},
   "cell_type": "code",
   "source": [
    "np.set_printoptions(threshold=np.nan)\n",
    "Z = np.zeros((16,16))\n",
    "print(Z)"
   ],
   "id": "2394613778c4000",
   "outputs": [],
   "execution_count": null
  },
  {
   "metadata": {
    "ExecuteTime": {
     "end_time": "2025-03-12T08:59:41.244362Z",
     "start_time": "2025-03-12T08:59:41.231631Z"
    }
   },
   "cell_type": "code",
   "source": [
    "Z = np.arange(100)\n",
    "v = np.random.uniform(0,100)\n",
    "index = (np.abs(Z-v)).argmin()\n",
    "print(Z[index])"
   ],
   "id": "c16f97008d94f060",
   "outputs": [
    {
     "name": "stdout",
     "output_type": "stream",
     "text": [
      "53\n"
     ]
    }
   ],
   "execution_count": 55
  },
  {
   "metadata": {
    "ExecuteTime": {
     "end_time": "2025-03-12T08:59:47.165544Z",
     "start_time": "2025-03-12T08:59:47.160983Z"
    }
   },
   "cell_type": "code",
   "source": [
    "Z = np.zeros(10, [ ('position', [ ('x', float, 1),\n",
    "                                  ('y', float, 1)]),\n",
    "                   ('color',    [ ('r', float, 1),\n",
    "                                  ('g', float, 1),\n",
    "                                  ('b', float, 1)])])\n",
    "print(Z)"
   ],
   "id": "ec8613a2333a0287",
   "outputs": [
    {
     "name": "stdout",
     "output_type": "stream",
     "text": [
      "[(([0.], [0.]), ([0.], [0.], [0.])) (([0.], [0.]), ([0.], [0.], [0.]))\n",
      " (([0.], [0.]), ([0.], [0.], [0.])) (([0.], [0.]), ([0.], [0.], [0.]))\n",
      " (([0.], [0.]), ([0.], [0.], [0.])) (([0.], [0.]), ([0.], [0.], [0.]))\n",
      " (([0.], [0.]), ([0.], [0.], [0.])) (([0.], [0.]), ([0.], [0.], [0.]))\n",
      " (([0.], [0.]), ([0.], [0.], [0.])) (([0.], [0.]), ([0.], [0.], [0.]))]\n"
     ]
    }
   ],
   "execution_count": 56
  },
  {
   "metadata": {
    "ExecuteTime": {
     "end_time": "2025-03-12T09:01:00.825060Z",
     "start_time": "2025-03-12T09:01:00.367807Z"
    }
   },
   "cell_type": "code",
   "source": [
    "Z = np.random.random((10,2))\n",
    "X,Y = np.atleast_2d(Z[:,0], Z[:,1])\n",
    "D = np.sqrt( (X-X.T)**2 + (Y-Y.T)**2)\n",
    "print(D)\n",
    "\n",
    "# Much faster with scipy\n",
    "import scipy\n",
    "# Thanks Gavin Heverly-Coulson (#issue 1)\n",
    "import scipy.spatial\n",
    "\n",
    "Z = np.random.random((10,2))\n",
    "D = scipy.spatial.distance.cdist(Z,Z)\n",
    "print(D)"
   ],
   "id": "8bac6f9868032de2",
   "outputs": [
    {
     "name": "stdout",
     "output_type": "stream",
     "text": [
      "[[0.         0.30569512 0.9731297  0.14087245 0.6595028  0.95816342\n",
      "  0.21974065 0.65879318 0.1767917  0.92539606]\n",
      " [0.30569512 0.         0.66790599 0.29744014 0.35545867 0.66184875\n",
      "  0.27388939 0.36828145 0.15810634 0.6314731 ]\n",
      " [0.9731297  0.66790599 0.         0.93584908 0.3285408  0.15459755\n",
      "  0.87523068 0.34833404 0.8093588  0.17957042]\n",
      " [0.14087245 0.29744014 0.93584908 0.         0.6441584  0.8994427\n",
      "  0.08839198 0.60053664 0.1394334  0.8639541 ]\n",
      " [0.6595028  0.35545867 0.3285408  0.6441584  0.         0.37286981\n",
      "  0.59905403 0.20350199 0.50850136 0.3563713 ]\n",
      " [0.95816342 0.66184875 0.15459755 0.8994427  0.37286981 0.\n",
      "  0.82888365 0.30020847 0.78529913 0.03935811]\n",
      " [0.21974065 0.27388939 0.87523068 0.08839198 0.59905403 0.82888365\n",
      "  0.         0.53311579 0.13382643 0.79240566]\n",
      " [0.65879318 0.36828145 0.34833404 0.60053664 0.20350199 0.30020847\n",
      "  0.53311579 0.         0.48518052 0.26663219]\n",
      " [0.1767917  0.15810634 0.8093588  0.1394334  0.50850136 0.78529913\n",
      "  0.13382643 0.48518052 0.         0.75166476]\n",
      " [0.92539606 0.6314731  0.17957042 0.8639541  0.3563713  0.03935811\n",
      "  0.79240566 0.26663219 0.75166476 0.        ]]\n",
      "[[0.         0.77512552 0.63162346 0.95155482 0.52769392 0.49253331\n",
      "  0.94937529 0.07195793 0.14365437 0.5193853 ]\n",
      " [0.77512552 0.         0.16230263 0.5407466  0.25397056 0.78994881\n",
      "  0.41177631 0.84355811 0.70400741 0.27304674]\n",
      " [0.63162346 0.16230263 0.         0.62847391 0.10449825 0.72684257\n",
      "  0.52522221 0.70202346 0.57780098 0.11484642]\n",
      " [0.95155482 0.5407466  0.62847391 0.         0.64178145 0.64518808\n",
      "  0.15752929 0.99609613 0.81903064 0.67492878]\n",
      " [0.52769392 0.25397056 0.10449825 0.64178145 0.         0.64561861\n",
      "  0.56058645 0.59785216 0.4743058  0.03317189]\n",
      " [0.49253331 0.78994881 0.72684257 0.64518808 0.64561861 0.\n",
      "  0.72134976 0.49512634 0.35835662 0.66384542]\n",
      " [0.94937529 0.41177631 0.52522221 0.15752929 0.56058645 0.72134976\n",
      "  0.         1.00243943 0.82877765 0.59266409]\n",
      " [0.07195793 0.84355811 0.70202346 0.99609613 0.59785216 0.49512634\n",
      "  1.00243943 0.         0.17711758 0.59034994]\n",
      " [0.14365437 0.70400741 0.57780098 0.81903064 0.4743058  0.35835662\n",
      "  0.82877765 0.17711758 0.         0.47492306]\n",
      " [0.5193853  0.27304674 0.11484642 0.67492878 0.03317189 0.66384542\n",
      "  0.59266409 0.59034994 0.47492306 0.        ]]\n"
     ]
    }
   ],
   "execution_count": 58
  },
  {
   "metadata": {
    "ExecuteTime": {
     "end_time": "2025-03-12T09:01:11.310322Z",
     "start_time": "2025-03-12T09:01:11.303455Z"
    }
   },
   "cell_type": "code",
   "source": [
    "Z = np.arange(10, dtype=np.float32)\n",
    "Z = Z.astype(np.int32, copy=False)\n",
    "print(Z)"
   ],
   "id": "70916d19dc54645d",
   "outputs": [
    {
     "name": "stdout",
     "output_type": "stream",
     "text": [
      "[0 1 2 3 4 5 6 7 8 9]\n"
     ]
    }
   ],
   "execution_count": 59
  },
  {
   "metadata": {},
   "cell_type": "code",
   "outputs": [],
   "execution_count": null,
   "source": "",
   "id": "b4e5edc6622c5f33"
  }
 ],
 "metadata": {
  "kernelspec": {
   "display_name": "Python 3",
   "language": "python",
   "name": "python3"
  },
  "language_info": {
   "codemirror_mode": {
    "name": "ipython",
    "version": 2
   },
   "file_extension": ".py",
   "mimetype": "text/x-python",
   "name": "python",
   "nbconvert_exporter": "python",
   "pygments_lexer": "ipython2",
   "version": "2.7.6"
  }
 },
 "nbformat": 4,
 "nbformat_minor": 5
}
