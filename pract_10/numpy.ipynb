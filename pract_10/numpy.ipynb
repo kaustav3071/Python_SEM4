{
 "cells": [
  {
   "cell_type": "code",
   "id": "initial_id",
   "metadata": {
    "collapsed": true,
    "ExecuteTime": {
     "end_time": "2025-03-13T04:20:53.279042Z",
     "start_time": "2025-03-13T04:20:53.074404Z"
    }
   },
   "source": "import numpy as np",
   "outputs": [],
   "execution_count": 2
  },
  {
   "metadata": {
    "ExecuteTime": {
     "end_time": "2025-03-13T04:43:58.267080Z",
     "start_time": "2025-03-13T04:43:58.075670Z"
    }
   },
   "cell_type": "code",
   "source": [
    "print(np.__version__)\n",
    "np.show_config()"
   ],
   "id": "2d189cad5eac1cb7",
   "outputs": [
    {
     "name": "stdout",
     "output_type": "stream",
     "text": [
      "2.2.3\n",
      "Build Dependencies:\n",
      "  blas:\n",
      "    detection method: pkgconfig\n",
      "    found: true\n",
      "    include directory: C:/Users/runneradmin/AppData/Local/Temp/cibw-run-u8afkksu/cp313-win_amd64/build/venv/Lib/site-packages/scipy_openblas64/include\n",
      "    lib directory: C:/Users/runneradmin/AppData/Local/Temp/cibw-run-u8afkksu/cp313-win_amd64/build/venv/Lib/site-packages/scipy_openblas64/lib\n",
      "    name: scipy-openblas\n",
      "    openblas configuration: OpenBLAS 0.3.28  USE64BITINT DYNAMIC_ARCH NO_AFFINITY\n",
      "      Haswell MAX_THREADS=24\n",
      "    pc file directory: D:/a/numpy/numpy/.openblas\n",
      "    version: 0.3.28\n",
      "  lapack:\n",
      "    detection method: pkgconfig\n",
      "    found: true\n",
      "    include directory: C:/Users/runneradmin/AppData/Local/Temp/cibw-run-u8afkksu/cp313-win_amd64/build/venv/Lib/site-packages/scipy_openblas64/include\n",
      "    lib directory: C:/Users/runneradmin/AppData/Local/Temp/cibw-run-u8afkksu/cp313-win_amd64/build/venv/Lib/site-packages/scipy_openblas64/lib\n",
      "    name: scipy-openblas\n",
      "    openblas configuration: OpenBLAS 0.3.28  USE64BITINT DYNAMIC_ARCH NO_AFFINITY\n",
      "      Haswell MAX_THREADS=24\n",
      "    pc file directory: D:/a/numpy/numpy/.openblas\n",
      "    version: 0.3.28\n",
      "Compilers:\n",
      "  c:\n",
      "    commands: cl\n",
      "    linker: link\n",
      "    name: msvc\n",
      "    version: 19.29.30158\n",
      "  c++:\n",
      "    commands: cl\n",
      "    linker: link\n",
      "    name: msvc\n",
      "    version: 19.29.30158\n",
      "  cython:\n",
      "    commands: cython\n",
      "    linker: cython\n",
      "    name: cython\n",
      "    version: 3.0.12\n",
      "Machine Information:\n",
      "  build:\n",
      "    cpu: x86_64\n",
      "    endian: little\n",
      "    family: x86_64\n",
      "    system: windows\n",
      "  host:\n",
      "    cpu: x86_64\n",
      "    endian: little\n",
      "    family: x86_64\n",
      "    system: windows\n",
      "Python Information:\n",
      "  path: C:\\Users\\runneradmin\\AppData\\Local\\Temp\\build-env-vu_ki1u0\\Scripts\\python.exe\n",
      "  version: '3.13'\n",
      "SIMD Extensions:\n",
      "  baseline:\n",
      "  - SSE\n",
      "  - SSE2\n",
      "  - SSE3\n",
      "  found:\n",
      "  - SSSE3\n",
      "  - SSE41\n",
      "  - POPCNT\n",
      "  - SSE42\n",
      "  - AVX\n",
      "  - F16C\n",
      "  - FMA3\n",
      "  - AVX2\n",
      "  - AVX512F\n",
      "  - AVX512CD\n",
      "  - AVX512_SKX\n",
      "  - AVX512_CLX\n",
      "  - AVX512_CNL\n",
      "  - AVX512_ICL\n",
      "\n"
     ]
    }
   ],
   "execution_count": 34
  },
  {
   "metadata": {
    "ExecuteTime": {
     "end_time": "2025-03-12T08:50:28.713839Z",
     "start_time": "2025-03-12T08:50:28.705828Z"
    }
   },
   "cell_type": "code",
   "source": [
    "Z = np.zeros(10)\n",
    "print(Z)"
   ],
   "id": "eb326fe48f478640",
   "outputs": [
    {
     "name": "stdout",
     "output_type": "stream",
     "text": [
      "[0. 0. 0. 0. 0. 0. 0. 0. 0. 0.]\n"
     ]
    }
   ],
   "execution_count": 4
  },
  {
   "metadata": {
    "ExecuteTime": {
     "end_time": "2025-03-12T08:50:35.887906Z",
     "start_time": "2025-03-12T08:50:35.883627Z"
    }
   },
   "cell_type": "code",
   "source": [
    "Z = np.zeros((10,10))\n",
    "print(\"%d bytes\" % (Z.size * Z.itemsize))"
   ],
   "id": "9dca55c31878479a",
   "outputs": [
    {
     "name": "stdout",
     "output_type": "stream",
     "text": [
      "800 bytes\n"
     ]
    }
   ],
   "execution_count": 5
  },
  {
   "metadata": {
    "ExecuteTime": {
     "end_time": "2025-03-12T08:50:55.582368Z",
     "start_time": "2025-03-12T08:50:55.492039Z"
    }
   },
   "cell_type": "code",
   "source": "%run `python -c \"import numpy; numpy.info(numpy.add)\"`",
   "id": "2bd347907cd805e8",
   "outputs": [
    {
     "ename": "Exception",
     "evalue": "File `'`python'` not found.",
     "output_type": "error",
     "traceback": [
      "\u001B[31m---------------------------------------------------------------------------\u001B[39m",
      "\u001B[31mOSError\u001B[39m                                   Traceback (most recent call last)",
      "\u001B[36mFile \u001B[39m\u001B[32m~\\OneDrive\\Desktop\\python 4th\\Python sem4\\.venv1\\Lib\\site-packages\\IPython\\core\\magics\\execution.py:727\u001B[39m, in \u001B[36mExecutionMagics.run\u001B[39m\u001B[34m(self, parameter_s, runner, file_finder)\u001B[39m\n\u001B[32m    726\u001B[39m     fpath = arg_lst[\u001B[32m0\u001B[39m]\n\u001B[32m--> \u001B[39m\u001B[32m727\u001B[39m     filename = \u001B[43mfile_finder\u001B[49m\u001B[43m(\u001B[49m\u001B[43mfpath\u001B[49m\u001B[43m)\u001B[49m\n\u001B[32m    728\u001B[39m \u001B[38;5;28;01mexcept\u001B[39;00m \u001B[38;5;167;01mIndexError\u001B[39;00m \u001B[38;5;28;01mas\u001B[39;00m e:\n",
      "\u001B[36mFile \u001B[39m\u001B[32m~\\OneDrive\\Desktop\\python 4th\\Python sem4\\.venv1\\Lib\\site-packages\\IPython\\utils\\path.py:90\u001B[39m, in \u001B[36mget_py_filename\u001B[39m\u001B[34m(name)\u001B[39m\n\u001B[32m     89\u001B[39m         \u001B[38;5;28;01mreturn\u001B[39;00m py_name\n\u001B[32m---> \u001B[39m\u001B[32m90\u001B[39m \u001B[38;5;28;01mraise\u001B[39;00m \u001B[38;5;167;01mIOError\u001B[39;00m(\u001B[33m\"\u001B[39m\u001B[33mFile `\u001B[39m\u001B[38;5;132;01m%r\u001B[39;00m\u001B[33m` not found.\u001B[39m\u001B[33m\"\u001B[39m % name)\n",
      "\u001B[31mOSError\u001B[39m: File `'`python'` not found.",
      "\nThe above exception was the direct cause of the following exception:\n",
      "\u001B[31mException\u001B[39m                                 Traceback (most recent call last)",
      "\u001B[36mCell\u001B[39m\u001B[36m \u001B[39m\u001B[32mIn[8]\u001B[39m\u001B[32m, line 1\u001B[39m\n\u001B[32m----> \u001B[39m\u001B[32m1\u001B[39m \u001B[43mget_ipython\u001B[49m\u001B[43m(\u001B[49m\u001B[43m)\u001B[49m\u001B[43m.\u001B[49m\u001B[43mrun_line_magic\u001B[49m\u001B[43m(\u001B[49m\u001B[33;43m'\u001B[39;49m\u001B[33;43mrun\u001B[39;49m\u001B[33;43m'\u001B[39;49m\u001B[43m,\u001B[49m\u001B[43m \u001B[49m\u001B[33;43m'\u001B[39;49m\u001B[33;43m`python -c \u001B[39;49m\u001B[33;43m\"\u001B[39;49m\u001B[33;43mimport numpy; numpy.info(numpy.add)\u001B[39;49m\u001B[33;43m\"\u001B[39;49m\u001B[33;43m`\u001B[39;49m\u001B[33;43m'\u001B[39;49m\u001B[43m)\u001B[49m\n",
      "\u001B[36mFile \u001B[39m\u001B[32m~\\OneDrive\\Desktop\\python 4th\\Python sem4\\.venv1\\Lib\\site-packages\\IPython\\core\\interactiveshell.py:2481\u001B[39m, in \u001B[36mInteractiveShell.run_line_magic\u001B[39m\u001B[34m(self, magic_name, line, _stack_depth)\u001B[39m\n\u001B[32m   2479\u001B[39m     kwargs[\u001B[33m'\u001B[39m\u001B[33mlocal_ns\u001B[39m\u001B[33m'\u001B[39m] = \u001B[38;5;28mself\u001B[39m.get_local_scope(stack_depth)\n\u001B[32m   2480\u001B[39m \u001B[38;5;28;01mwith\u001B[39;00m \u001B[38;5;28mself\u001B[39m.builtin_trap:\n\u001B[32m-> \u001B[39m\u001B[32m2481\u001B[39m     result = \u001B[43mfn\u001B[49m\u001B[43m(\u001B[49m\u001B[43m*\u001B[49m\u001B[43margs\u001B[49m\u001B[43m,\u001B[49m\u001B[43m \u001B[49m\u001B[43m*\u001B[49m\u001B[43m*\u001B[49m\u001B[43mkwargs\u001B[49m\u001B[43m)\u001B[49m\n\u001B[32m   2483\u001B[39m \u001B[38;5;66;03m# The code below prevents the output from being displayed\u001B[39;00m\n\u001B[32m   2484\u001B[39m \u001B[38;5;66;03m# when using magics with decorator @output_can_be_silenced\u001B[39;00m\n\u001B[32m   2485\u001B[39m \u001B[38;5;66;03m# when the last Python token in the expression is a ';'.\u001B[39;00m\n\u001B[32m   2486\u001B[39m \u001B[38;5;28;01mif\u001B[39;00m \u001B[38;5;28mgetattr\u001B[39m(fn, magic.MAGIC_OUTPUT_CAN_BE_SILENCED, \u001B[38;5;28;01mFalse\u001B[39;00m):\n",
      "\u001B[36mFile \u001B[39m\u001B[32m~\\OneDrive\\Desktop\\python 4th\\Python sem4\\.venv1\\Lib\\site-packages\\IPython\\core\\magics\\execution.py:738\u001B[39m, in \u001B[36mExecutionMagics.run\u001B[39m\u001B[34m(self, parameter_s, runner, file_finder)\u001B[39m\n\u001B[32m    736\u001B[39m     \u001B[38;5;28;01mif\u001B[39;00m os.name == \u001B[33m'\u001B[39m\u001B[33mnt\u001B[39m\u001B[33m'\u001B[39m \u001B[38;5;129;01mand\u001B[39;00m re.match(\u001B[33mr\u001B[39m\u001B[33m\"\u001B[39m\u001B[33m^\u001B[39m\u001B[33m'\u001B[39m\u001B[33m.*\u001B[39m\u001B[33m'\u001B[39m\u001B[33m$\u001B[39m\u001B[33m\"\u001B[39m,fpath):\n\u001B[32m    737\u001B[39m         warn(\u001B[33m'\u001B[39m\u001B[33mFor Windows, use double quotes to wrap a filename: \u001B[39m\u001B[38;5;132;01m%r\u001B[39;00m\u001B[33mun \u001B[39m\u001B[33m\"\u001B[39m\u001B[33mmypath\u001B[39m\u001B[38;5;130;01m\\\\\u001B[39;00m\u001B[33mmyfile.py\u001B[39m\u001B[33m\"\u001B[39m\u001B[33m'\u001B[39m)\n\u001B[32m--> \u001B[39m\u001B[32m738\u001B[39m     \u001B[38;5;28;01mraise\u001B[39;00m \u001B[38;5;167;01mException\u001B[39;00m(msg) \u001B[38;5;28;01mfrom\u001B[39;00m\u001B[38;5;250m \u001B[39m\u001B[34;01me\u001B[39;00m\n\u001B[32m    739\u001B[39m \u001B[38;5;28;01mexcept\u001B[39;00m \u001B[38;5;167;01mTypeError\u001B[39;00m:\n\u001B[32m    740\u001B[39m     \u001B[38;5;28;01mif\u001B[39;00m fpath \u001B[38;5;129;01min\u001B[39;00m sys.meta_path:\n",
      "\u001B[31mException\u001B[39m: File `'`python'` not found."
     ]
    }
   ],
   "execution_count": 8
  },
  {
   "metadata": {
    "ExecuteTime": {
     "end_time": "2025-03-12T08:51:12.193472Z",
     "start_time": "2025-03-12T08:51:12.173930Z"
    }
   },
   "cell_type": "code",
   "source": [
    "Z = np.zeros(10)\n",
    "Z[4] = 1\n",
    "print(Z)"
   ],
   "id": "9b9f88f1a97ed3eb",
   "outputs": [
    {
     "name": "stdout",
     "output_type": "stream",
     "text": [
      "[0. 0. 0. 0. 1. 0. 0. 0. 0. 0.]\n"
     ]
    }
   ],
   "execution_count": 9
  },
  {
   "metadata": {
    "ExecuteTime": {
     "end_time": "2025-03-12T08:51:26.533788Z",
     "start_time": "2025-03-12T08:51:26.518826Z"
    }
   },
   "cell_type": "code",
   "source": [
    "Z = np.arange(10,50)\n",
    "print(Z)"
   ],
   "id": "298f7e12c88fe5d4",
   "outputs": [
    {
     "name": "stdout",
     "output_type": "stream",
     "text": [
      "[10 11 12 13 14 15 16 17 18 19 20 21 22 23 24 25 26 27 28 29 30 31 32 33\n",
      " 34 35 36 37 38 39 40 41 42 43 44 45 46 47 48 49]\n"
     ]
    }
   ],
   "execution_count": 10
  },
  {
   "metadata": {
    "ExecuteTime": {
     "end_time": "2025-03-12T08:51:35.652178Z",
     "start_time": "2025-03-12T08:51:35.645959Z"
    }
   },
   "cell_type": "code",
   "source": [
    "Z = np.arange(50)\n",
    "Z = Z[::-1]\n",
    "print(Z)"
   ],
   "id": "da6d8be6aa764b6c",
   "outputs": [
    {
     "name": "stdout",
     "output_type": "stream",
     "text": [
      "[49 48 47 46 45 44 43 42 41 40 39 38 37 36 35 34 33 32 31 30 29 28 27 26\n",
      " 25 24 23 22 21 20 19 18 17 16 15 14 13 12 11 10  9  8  7  6  5  4  3  2\n",
      "  1  0]\n"
     ]
    }
   ],
   "execution_count": 11
  },
  {
   "metadata": {
    "ExecuteTime": {
     "end_time": "2025-03-12T08:51:41.950883Z",
     "start_time": "2025-03-12T08:51:41.947081Z"
    }
   },
   "cell_type": "code",
   "source": [
    "Z = np.arange(9).reshape(3,3)\n",
    "print(Z)"
   ],
   "id": "39b314bb0f9f381b",
   "outputs": [
    {
     "name": "stdout",
     "output_type": "stream",
     "text": [
      "[[0 1 2]\n",
      " [3 4 5]\n",
      " [6 7 8]]\n"
     ]
    }
   ],
   "execution_count": 12
  },
  {
   "metadata": {
    "ExecuteTime": {
     "end_time": "2025-03-12T08:51:46.920688Z",
     "start_time": "2025-03-12T08:51:46.915167Z"
    }
   },
   "cell_type": "code",
   "source": [
    "nz = np.nonzero([1,2,0,0,4,0])\n",
    "print(nz)"
   ],
   "id": "80dd4712a67b7760",
   "outputs": [
    {
     "name": "stdout",
     "output_type": "stream",
     "text": [
      "(array([0, 1, 4]),)\n"
     ]
    }
   ],
   "execution_count": 13
  },
  {
   "metadata": {
    "ExecuteTime": {
     "end_time": "2025-03-12T08:51:59.545989Z",
     "start_time": "2025-03-12T08:51:59.539229Z"
    }
   },
   "cell_type": "code",
   "source": [
    "Z = np.eye(3)\n",
    "print(Z)"
   ],
   "id": "77e045aa9632e953",
   "outputs": [
    {
     "name": "stdout",
     "output_type": "stream",
     "text": [
      "[[1. 0. 0.]\n",
      " [0. 1. 0.]\n",
      " [0. 0. 1.]]\n"
     ]
    }
   ],
   "execution_count": 14
  },
  {
   "metadata": {
    "ExecuteTime": {
     "end_time": "2025-03-12T08:52:05.928261Z",
     "start_time": "2025-03-12T08:52:05.874586Z"
    }
   },
   "cell_type": "code",
   "source": [
    "Z = np.random.random((3,3,3))\n",
    "print(Z)"
   ],
   "id": "b42eb667eb561fb9",
   "outputs": [
    {
     "name": "stdout",
     "output_type": "stream",
     "text": [
      "[[[0.63614388 0.14580471 0.54679636]\n",
      "  [0.9028338  0.62931864 0.30603883]\n",
      "  [0.13283283 0.06026995 0.15578622]]\n",
      "\n",
      " [[0.43281743 0.58500372 0.44219861]\n",
      "  [0.82986079 0.29896058 0.46653468]\n",
      "  [0.37413994 0.98293917 0.43151977]]\n",
      "\n",
      " [[0.37009    0.07104516 0.23431463]\n",
      "  [0.28212146 0.21386052 0.12398587]\n",
      "  [0.20596372 0.99852183 0.2614164 ]]]\n"
     ]
    }
   ],
   "execution_count": 15
  },
  {
   "metadata": {
    "ExecuteTime": {
     "end_time": "2025-03-12T08:52:12.187030Z",
     "start_time": "2025-03-12T08:52:12.182343Z"
    }
   },
   "cell_type": "code",
   "source": [
    "Z = np.random.random((10,10))\n",
    "Zmin, Zmax = Z.min(), Z.max()\n",
    "print(Zmin, Zmax)"
   ],
   "id": "56c7b49f98df40b6",
   "outputs": [
    {
     "name": "stdout",
     "output_type": "stream",
     "text": [
      "0.011345613263570864 0.99753956954974\n"
     ]
    }
   ],
   "execution_count": 16
  },
  {
   "metadata": {
    "ExecuteTime": {
     "end_time": "2025-03-12T08:52:24.999593Z",
     "start_time": "2025-03-12T08:52:24.994585Z"
    }
   },
   "cell_type": "code",
   "source": [
    "Z = np.random.random(30)\n",
    "m = Z.mean()\n",
    "print(m)"
   ],
   "id": "c8cd2998e36b4f19",
   "outputs": [
    {
     "name": "stdout",
     "output_type": "stream",
     "text": [
      "0.4713740926935784\n"
     ]
    }
   ],
   "execution_count": 17
  },
  {
   "metadata": {
    "ExecuteTime": {
     "end_time": "2025-03-12T08:52:30.506706Z",
     "start_time": "2025-03-12T08:52:30.501261Z"
    }
   },
   "cell_type": "code",
   "source": [
    "Z = np.ones((10,10))\n",
    "Z[1:-1,1:-1] = 0\n",
    "print(Z)"
   ],
   "id": "1ab2fe93b19fdda8",
   "outputs": [
    {
     "name": "stdout",
     "output_type": "stream",
     "text": [
      "[[1. 1. 1. 1. 1. 1. 1. 1. 1. 1.]\n",
      " [1. 0. 0. 0. 0. 0. 0. 0. 0. 1.]\n",
      " [1. 0. 0. 0. 0. 0. 0. 0. 0. 1.]\n",
      " [1. 0. 0. 0. 0. 0. 0. 0. 0. 1.]\n",
      " [1. 0. 0. 0. 0. 0. 0. 0. 0. 1.]\n",
      " [1. 0. 0. 0. 0. 0. 0. 0. 0. 1.]\n",
      " [1. 0. 0. 0. 0. 0. 0. 0. 0. 1.]\n",
      " [1. 0. 0. 0. 0. 0. 0. 0. 0. 1.]\n",
      " [1. 0. 0. 0. 0. 0. 0. 0. 0. 1.]\n",
      " [1. 1. 1. 1. 1. 1. 1. 1. 1. 1.]]\n"
     ]
    }
   ],
   "execution_count": 18
  },
  {
   "metadata": {
    "ExecuteTime": {
     "end_time": "2025-03-12T08:52:36.748546Z",
     "start_time": "2025-03-12T08:52:36.738472Z"
    }
   },
   "cell_type": "code",
   "source": [
    "Z = np.ones((5,5))\n",
    "Z = np.pad(Z, pad_width=1, mode='constant', constant_values=0)\n",
    "print(Z)"
   ],
   "id": "1c75d0280c48075",
   "outputs": [
    {
     "name": "stdout",
     "output_type": "stream",
     "text": [
      "[[0. 0. 0. 0. 0. 0. 0.]\n",
      " [0. 1. 1. 1. 1. 1. 0.]\n",
      " [0. 1. 1. 1. 1. 1. 0.]\n",
      " [0. 1. 1. 1. 1. 1. 0.]\n",
      " [0. 1. 1. 1. 1. 1. 0.]\n",
      " [0. 1. 1. 1. 1. 1. 0.]\n",
      " [0. 0. 0. 0. 0. 0. 0.]]\n"
     ]
    }
   ],
   "execution_count": 19
  },
  {
   "metadata": {
    "ExecuteTime": {
     "end_time": "2025-03-12T08:52:42.415438Z",
     "start_time": "2025-03-12T08:52:42.411141Z"
    }
   },
   "cell_type": "code",
   "source": [
    "print(0 * np.nan)\n",
    "print(np.nan == np.nan)\n",
    "print(np.inf > np.nan)\n",
    "print(np.nan - np.nan)\n",
    "print(np.nan in set([np.nan]))\n",
    "print(0.3 == 3 * 0.1)"
   ],
   "id": "cd6d2d6daf2526c",
   "outputs": [
    {
     "name": "stdout",
     "output_type": "stream",
     "text": [
      "nan\n",
      "False\n",
      "False\n",
      "nan\n",
      "True\n",
      "False\n"
     ]
    }
   ],
   "execution_count": 20
  },
  {
   "metadata": {
    "ExecuteTime": {
     "end_time": "2025-03-12T08:52:48.313581Z",
     "start_time": "2025-03-12T08:52:48.308381Z"
    }
   },
   "cell_type": "code",
   "source": [
    "Z = np.diag(1+np.arange(4),k=-1)\n",
    "print(Z)"
   ],
   "id": "5967f624eebb55f9",
   "outputs": [
    {
     "name": "stdout",
     "output_type": "stream",
     "text": [
      "[[0 0 0 0 0]\n",
      " [1 0 0 0 0]\n",
      " [0 2 0 0 0]\n",
      " [0 0 3 0 0]\n",
      " [0 0 0 4 0]]\n"
     ]
    }
   ],
   "execution_count": 21
  },
  {
   "metadata": {
    "ExecuteTime": {
     "end_time": "2025-03-12T08:52:53.472215Z",
     "start_time": "2025-03-12T08:52:53.467388Z"
    }
   },
   "cell_type": "code",
   "source": [
    "Z = np.zeros((8,8),dtype=int)\n",
    "Z[1::2,::2] = 1\n",
    "Z[::2,1::2] = 1\n",
    "print(Z)"
   ],
   "id": "acbce1935ae4ec6f",
   "outputs": [
    {
     "name": "stdout",
     "output_type": "stream",
     "text": [
      "[[0 1 0 1 0 1 0 1]\n",
      " [1 0 1 0 1 0 1 0]\n",
      " [0 1 0 1 0 1 0 1]\n",
      " [1 0 1 0 1 0 1 0]\n",
      " [0 1 0 1 0 1 0 1]\n",
      " [1 0 1 0 1 0 1 0]\n",
      " [0 1 0 1 0 1 0 1]\n",
      " [1 0 1 0 1 0 1 0]]\n"
     ]
    }
   ],
   "execution_count": 22
  },
  {
   "metadata": {
    "ExecuteTime": {
     "end_time": "2025-03-12T08:53:00.980554Z",
     "start_time": "2025-03-12T08:53:00.976657Z"
    }
   },
   "cell_type": "code",
   "source": "print(np.unravel_index(100,(6,7,8)))",
   "id": "62c80aada9a88dfd",
   "outputs": [
    {
     "name": "stdout",
     "output_type": "stream",
     "text": [
      "(np.int64(1), np.int64(5), np.int64(4))\n"
     ]
    }
   ],
   "execution_count": 23
  },
  {
   "metadata": {
    "ExecuteTime": {
     "end_time": "2025-03-12T08:53:05.663881Z",
     "start_time": "2025-03-12T08:53:05.658754Z"
    }
   },
   "cell_type": "code",
   "source": [
    "Z = np.tile( np.array([[0,1],[1,0]]), (4,4))\n",
    "print(Z)"
   ],
   "id": "ade7bc61cde41365",
   "outputs": [
    {
     "name": "stdout",
     "output_type": "stream",
     "text": [
      "[[0 1 0 1 0 1 0 1]\n",
      " [1 0 1 0 1 0 1 0]\n",
      " [0 1 0 1 0 1 0 1]\n",
      " [1 0 1 0 1 0 1 0]\n",
      " [0 1 0 1 0 1 0 1]\n",
      " [1 0 1 0 1 0 1 0]\n",
      " [0 1 0 1 0 1 0 1]\n",
      " [1 0 1 0 1 0 1 0]]\n"
     ]
    }
   ],
   "execution_count": 24
  },
  {
   "metadata": {
    "ExecuteTime": {
     "end_time": "2025-03-12T08:53:11.067937Z",
     "start_time": "2025-03-12T08:53:11.062189Z"
    }
   },
   "cell_type": "code",
   "source": [
    "Z = np.random.random((5,5))\n",
    "Z = (Z - np.mean (Z)) / (np.std (Z))\n",
    "print(Z)"
   ],
   "id": "728cc26a8a40bae7",
   "outputs": [
    {
     "name": "stdout",
     "output_type": "stream",
     "text": [
      "[[-1.72848288  0.57252198 -0.06938724 -0.12976298 -0.22632754]\n",
      " [-0.95436629  0.53557314  0.95822202 -0.34972711 -1.24714727]\n",
      " [ 1.02734104 -1.84460845  1.51937036 -0.43343251  1.31146578]\n",
      " [ 0.80271475  0.14342444  0.10009051  1.32648514  0.8366955 ]\n",
      " [-0.30614133 -1.5322539   0.77524766 -1.63357802  0.54606321]]\n"
     ]
    }
   ],
   "execution_count": 25
  },
  {
   "metadata": {
    "ExecuteTime": {
     "end_time": "2025-03-12T08:53:28.252467Z",
     "start_time": "2025-03-12T08:53:28.248853Z"
    }
   },
   "cell_type": "code",
   "source": [
    "color = np.dtype([(\"r\", np.ubyte, 1),\n",
    "                  (\"g\", np.ubyte, 1),\n",
    "                  (\"b\", np.ubyte, 1),\n",
    "                  (\"a\", np.ubyte, 1)])"
   ],
   "id": "5bd2054b11cf6c91",
   "outputs": [],
   "execution_count": 27
  },
  {
   "metadata": {
    "ExecuteTime": {
     "end_time": "2025-03-12T08:53:39.314611Z",
     "start_time": "2025-03-12T08:53:39.307537Z"
    }
   },
   "cell_type": "code",
   "source": [
    "Z = np.dot(np.ones((5,3)), np.ones((3,2)))\n",
    "print(Z)\n",
    "\n",
    "# Alternative solution, in Python 3.5 and above\n",
    "Z = np.ones((5,3)) @ np.ones((3,2))"
   ],
   "id": "41032a54eabf43e8",
   "outputs": [
    {
     "name": "stdout",
     "output_type": "stream",
     "text": [
      "[[3. 3.]\n",
      " [3. 3.]\n",
      " [3. 3.]\n",
      " [3. 3.]\n",
      " [3. 3.]]\n"
     ]
    }
   ],
   "execution_count": 28
  },
  {
   "metadata": {
    "ExecuteTime": {
     "end_time": "2025-03-12T08:53:45.417984Z",
     "start_time": "2025-03-12T08:53:45.413380Z"
    }
   },
   "cell_type": "code",
   "source": [
    "# Author: Evgeni Burovski\n",
    "\n",
    "Z = np.arange(11)\n",
    "Z[(3 < Z) & (Z <= 8)] *= -1\n",
    "print(Z)"
   ],
   "id": "3788cd097d4667cd",
   "outputs": [
    {
     "name": "stdout",
     "output_type": "stream",
     "text": [
      "[ 0  1  2  3 -4 -5 -6 -7 -8  9 10]\n"
     ]
    }
   ],
   "execution_count": 29
  },
  {
   "metadata": {
    "ExecuteTime": {
     "end_time": "2025-03-12T08:53:51.686227Z",
     "start_time": "2025-03-12T08:53:51.177873Z"
    }
   },
   "cell_type": "code",
   "source": [
    "# Author: Jake VanderPlas\n",
    "\n",
    "print(sum(range(5),-1))\n",
    "from numpy import *\n",
    "print(sum(range(5),-1))"
   ],
   "id": "eee1efaec18ad23e",
   "outputs": [
    {
     "name": "stdout",
     "output_type": "stream",
     "text": [
      "9\n",
      "10\n"
     ]
    }
   ],
   "execution_count": 30
  },
  {
   "metadata": {
    "ExecuteTime": {
     "end_time": "2025-03-12T08:53:57.304957Z",
     "start_time": "2025-03-12T08:53:57.267593Z"
    }
   },
   "cell_type": "code",
   "source": [
    "Z**Z\n",
    "2 << Z >> 2\n",
    "Z <- Z\n",
    "1j*Z\n",
    "Z/1/1\n",
    "Z<Z>Z"
   ],
   "id": "488a677b470fda16",
   "outputs": [
    {
     "ename": "ValueError",
     "evalue": "Integers to negative integer powers are not allowed.",
     "output_type": "error",
     "traceback": [
      "\u001B[31m---------------------------------------------------------------------------\u001B[39m",
      "\u001B[31mValueError\u001B[39m                                Traceback (most recent call last)",
      "\u001B[36mCell\u001B[39m\u001B[36m \u001B[39m\u001B[32mIn[31]\u001B[39m\u001B[32m, line 1\u001B[39m\n\u001B[32m----> \u001B[39m\u001B[32m1\u001B[39m \u001B[43mZ\u001B[49m\u001B[43m*\u001B[49m\u001B[43m*\u001B[49m\u001B[43mZ\u001B[49m\n\u001B[32m      2\u001B[39m \u001B[32m2\u001B[39m << Z >> \u001B[32m2\u001B[39m\n\u001B[32m      3\u001B[39m Z <- Z\n",
      "\u001B[31mValueError\u001B[39m: Integers to negative integer powers are not allowed."
     ]
    }
   ],
   "execution_count": 31
  },
  {
   "metadata": {
    "ExecuteTime": {
     "end_time": "2025-03-12T08:54:04.381895Z",
     "start_time": "2025-03-12T08:54:04.375685Z"
    }
   },
   "cell_type": "code",
   "source": [
    "print(np.array(0) / np.array(0))\n",
    "print(np.array(0) // np.array(0))\n",
    "print(np.array([np.nan]).astype(int).astype(float))"
   ],
   "id": "59eaa75682064d03",
   "outputs": [
    {
     "name": "stdout",
     "output_type": "stream",
     "text": [
      "nan\n",
      "0\n",
      "[-9.22337204e+18]\n"
     ]
    },
    {
     "name": "stderr",
     "output_type": "stream",
     "text": [
      "C:\\Users\\Kaustav Das\\AppData\\Local\\Temp\\ipykernel_12484\\1422587819.py:1: RuntimeWarning: invalid value encountered in divide\n",
      "  print(np.array(0) / np.array(0))\n",
      "C:\\Users\\Kaustav Das\\AppData\\Local\\Temp\\ipykernel_12484\\1422587819.py:2: RuntimeWarning: divide by zero encountered in floor_divide\n",
      "  print(np.array(0) // np.array(0))\n",
      "C:\\Users\\Kaustav Das\\AppData\\Local\\Temp\\ipykernel_12484\\1422587819.py:3: RuntimeWarning: invalid value encountered in cast\n",
      "  print(np.array([np.nan]).astype(int).astype(float))\n"
     ]
    }
   ],
   "execution_count": 32
  },
  {
   "metadata": {
    "ExecuteTime": {
     "end_time": "2025-03-12T08:54:17.139270Z",
     "start_time": "2025-03-12T08:54:17.131503Z"
    }
   },
   "cell_type": "code",
   "source": [
    "# Author: Charles R Harris\n",
    "\n",
    "Z = np.random.uniform(-10,+10,10)\n",
    "print (np.copysign(np.ceil(np.abs(Z)), Z))"
   ],
   "id": "c25ddd039413a94e",
   "outputs": [
    {
     "name": "stdout",
     "output_type": "stream",
     "text": [
      "[-10.  -5.   8.   3.   4.   7.  -7.   2.  -9.  -3.]\n"
     ]
    }
   ],
   "execution_count": 33
  },
  {
   "metadata": {
    "ExecuteTime": {
     "end_time": "2025-03-12T08:54:22.642612Z",
     "start_time": "2025-03-12T08:54:22.632474Z"
    }
   },
   "cell_type": "code",
   "source": [
    "Z1 = np.random.randint(0,10,10)\n",
    "Z2 = np.random.randint(0,10,10)\n",
    "print(np.intersect1d(Z1,Z2))"
   ],
   "id": "d8231376c8842e07",
   "outputs": [
    {
     "name": "stdout",
     "output_type": "stream",
     "text": [
      "[2 3 5 6 7]\n"
     ]
    }
   ],
   "execution_count": 34
  },
  {
   "metadata": {
    "ExecuteTime": {
     "end_time": "2025-03-12T08:54:41.997782Z",
     "start_time": "2025-03-12T08:54:41.992823Z"
    }
   },
   "cell_type": "code",
   "source": [
    "# Suicide mode on\n",
    "defaults = np.seterr(all=\"ignore\")\n",
    "Z = np.ones(1) / 0\n",
    "\n",
    "# Back to sanity\n",
    "_ = np.seterr(**defaults)\n",
    "\n",
    "# An equivalent way, with a context manager:\n",
    "\n",
    "with np.errstate(divide='ignore'):\n",
    "    Z = np.ones(1) / 0"
   ],
   "id": "d6037d022e3095d2",
   "outputs": [],
   "execution_count": 35
  },
  {
   "metadata": {
    "ExecuteTime": {
     "end_time": "2025-03-12T08:54:48.299810Z",
     "start_time": "2025-03-12T08:54:48.269772Z"
    }
   },
   "cell_type": "code",
   "source": "np.sqrt(-1) == np.emath.sqrt(-1)",
   "id": "3a30f17cb243d43c",
   "outputs": [
    {
     "name": "stderr",
     "output_type": "stream",
     "text": [
      "C:\\Users\\Kaustav Das\\AppData\\Local\\Temp\\ipykernel_12484\\2961820512.py:1: RuntimeWarning: invalid value encountered in sqrt\n",
      "  np.sqrt(-1) == np.emath.sqrt(-1)\n"
     ]
    },
    {
     "data": {
      "text/plain": [
       "np.False_"
      ]
     },
     "execution_count": 36,
     "metadata": {},
     "output_type": "execute_result"
    }
   ],
   "execution_count": 36
  },
  {
   "metadata": {
    "ExecuteTime": {
     "end_time": "2025-03-12T08:54:56.603285Z",
     "start_time": "2025-03-12T08:54:56.598470Z"
    }
   },
   "cell_type": "code",
   "source": [
    "yesterday = np.datetime64('today', 'D') - np.timedelta64(1, 'D')\n",
    "today     = np.datetime64('today', 'D')\n",
    "tomorrow  = np.datetime64('today', 'D') + np.timedelta64(1, 'D')"
   ],
   "id": "fa63e95a9c94b5aa",
   "outputs": [],
   "execution_count": 37
  },
  {
   "metadata": {
    "ExecuteTime": {
     "end_time": "2025-03-12T08:56:47.147779Z",
     "start_time": "2025-03-12T08:56:47.141347Z"
    }
   },
   "cell_type": "code",
   "source": [
    "Z = np.arange('2016-07', '2016-08', dtype='datetime64[D]')\n",
    "print(Z)"
   ],
   "id": "97c2806ea8cef291",
   "outputs": [
    {
     "name": "stdout",
     "output_type": "stream",
     "text": [
      "['2016-07-01' '2016-07-02' '2016-07-03' '2016-07-04' '2016-07-05'\n",
      " '2016-07-06' '2016-07-07' '2016-07-08' '2016-07-09' '2016-07-10'\n",
      " '2016-07-11' '2016-07-12' '2016-07-13' '2016-07-14' '2016-07-15'\n",
      " '2016-07-16' '2016-07-17' '2016-07-18' '2016-07-19' '2016-07-20'\n",
      " '2016-07-21' '2016-07-22' '2016-07-23' '2016-07-24' '2016-07-25'\n",
      " '2016-07-26' '2016-07-27' '2016-07-28' '2016-07-29' '2016-07-30'\n",
      " '2016-07-31']\n"
     ]
    }
   ],
   "execution_count": 38
  },
  {
   "metadata": {
    "ExecuteTime": {
     "end_time": "2025-03-12T08:56:52.800196Z",
     "start_time": "2025-03-12T08:56:52.794419Z"
    }
   },
   "cell_type": "code",
   "source": [
    "A = np.ones(3)*1\n",
    "B = np.ones(3)*2\n",
    "C = np.ones(3)*3\n",
    "np.add(A,B,out=B)\n",
    "np.divide(A,2,out=A)\n",
    "np.negative(A,out=A)\n",
    "np.multiply(A,B,out=A)"
   ],
   "id": "dee944af6f3e6daf",
   "outputs": [
    {
     "data": {
      "text/plain": [
       "array([-1.5, -1.5, -1.5])"
      ]
     },
     "execution_count": 39,
     "metadata": {},
     "output_type": "execute_result"
    }
   ],
   "execution_count": 39
  },
  {
   "metadata": {
    "ExecuteTime": {
     "end_time": "2025-03-12T08:56:58.626996Z",
     "start_time": "2025-03-12T08:56:58.621357Z"
    }
   },
   "cell_type": "code",
   "source": [
    "Z = np.random.uniform(0,10,10)\n",
    "\n",
    "print (Z - Z%1)\n",
    "print (np.floor(Z))\n",
    "print (np.ceil(Z)-1)\n",
    "print (Z.astype(int))\n",
    "print (np.trunc(Z))"
   ],
   "id": "6ac6d3eab1c3f31b",
   "outputs": [
    {
     "name": "stdout",
     "output_type": "stream",
     "text": [
      "[6. 0. 7. 4. 0. 7. 2. 2. 1. 1.]\n",
      "[6. 0. 7. 4. 0. 7. 2. 2. 1. 1.]\n",
      "[6. 0. 7. 4. 0. 7. 2. 2. 1. 1.]\n",
      "[6 0 7 4 0 7 2 2 1 1]\n",
      "[6. 0. 7. 4. 0. 7. 2. 2. 1. 1.]\n"
     ]
    }
   ],
   "execution_count": 40
  },
  {
   "metadata": {
    "ExecuteTime": {
     "end_time": "2025-03-12T08:57:04.509711Z",
     "start_time": "2025-03-12T08:57:04.505056Z"
    }
   },
   "cell_type": "code",
   "source": [
    "Z = np.zeros((5,5))\n",
    "Z += np.arange(5)\n",
    "print(Z)"
   ],
   "id": "d6306e86871bcd47",
   "outputs": [
    {
     "name": "stdout",
     "output_type": "stream",
     "text": [
      "[[0. 1. 2. 3. 4.]\n",
      " [0. 1. 2. 3. 4.]\n",
      " [0. 1. 2. 3. 4.]\n",
      " [0. 1. 2. 3. 4.]\n",
      " [0. 1. 2. 3. 4.]]\n"
     ]
    }
   ],
   "execution_count": 41
  },
  {
   "metadata": {
    "ExecuteTime": {
     "end_time": "2025-03-12T08:57:09.795541Z",
     "start_time": "2025-03-12T08:57:09.789883Z"
    }
   },
   "cell_type": "code",
   "source": [
    "def generate():\n",
    "    for x in range(10):\n",
    "        yield x\n",
    "Z = np.fromiter(generate(),dtype=float,count=-1)\n",
    "print(Z)"
   ],
   "id": "60ccfc3e687a3043",
   "outputs": [
    {
     "name": "stdout",
     "output_type": "stream",
     "text": [
      "[0. 1. 2. 3. 4. 5. 6. 7. 8. 9.]\n"
     ]
    }
   ],
   "execution_count": 42
  },
  {
   "metadata": {
    "ExecuteTime": {
     "end_time": "2025-03-12T08:57:19.222861Z",
     "start_time": "2025-03-12T08:57:19.217136Z"
    }
   },
   "cell_type": "code",
   "source": [
    "Z = np.linspace(0,1,11,endpoint=False)[1:]\n",
    "print(Z)"
   ],
   "id": "a8e3f7b4d36bb9c6",
   "outputs": [
    {
     "name": "stdout",
     "output_type": "stream",
     "text": [
      "[0.09090909 0.18181818 0.27272727 0.36363636 0.45454545 0.54545455\n",
      " 0.63636364 0.72727273 0.81818182 0.90909091]\n"
     ]
    }
   ],
   "execution_count": 43
  },
  {
   "metadata": {
    "ExecuteTime": {
     "end_time": "2025-03-12T08:57:24.061511Z",
     "start_time": "2025-03-12T08:57:24.055554Z"
    }
   },
   "cell_type": "code",
   "source": [
    "Z = np.random.random(10)\n",
    "Z.sort()\n",
    "print(Z)"
   ],
   "id": "cbfa15ae8e2c57ce",
   "outputs": [
    {
     "name": "stdout",
     "output_type": "stream",
     "text": [
      "[0.08487004 0.08933571 0.17649425 0.61482582 0.72614255 0.74846448\n",
      " 0.83552273 0.85343179 0.86345926 0.97219644]\n"
     ]
    }
   ],
   "execution_count": 44
  },
  {
   "metadata": {
    "ExecuteTime": {
     "end_time": "2025-03-12T08:57:29.933370Z",
     "start_time": "2025-03-12T08:57:29.926858Z"
    }
   },
   "cell_type": "code",
   "source": [
    "# Author: Evgeni Burovski\n",
    "\n",
    "Z = np.arange(10)\n",
    "np.add.reduce(Z)"
   ],
   "id": "c4e1db962fc9732b",
   "outputs": [
    {
     "data": {
      "text/plain": [
       "np.int64(45)"
      ]
     },
     "execution_count": 45,
     "metadata": {},
     "output_type": "execute_result"
    }
   ],
   "execution_count": 45
  },
  {
   "metadata": {
    "ExecuteTime": {
     "end_time": "2025-03-12T08:57:38.673771Z",
     "start_time": "2025-03-12T08:57:38.667638Z"
    }
   },
   "cell_type": "code",
   "source": [
    "A = np.random.randint(0,2,5)\n",
    "B = np.random.randint(0,2,5)\n",
    "\n",
    "# Assuming identical shape of the arrays and a tolerance for the comparison of values\n",
    "equal = np.allclose(A,B)\n",
    "print(equal)\n",
    "\n",
    "# Checking both the shape and the element values, no tolerance (values have to be exactly equal)\n",
    "equal = np.array_equal(A,B)\n",
    "print(equal)"
   ],
   "id": "fad765d213033105",
   "outputs": [
    {
     "name": "stdout",
     "output_type": "stream",
     "text": [
      "False\n",
      "False\n"
     ]
    }
   ],
   "execution_count": 46
  },
  {
   "metadata": {
    "ExecuteTime": {
     "end_time": "2025-03-12T08:57:45.331238Z",
     "start_time": "2025-03-12T08:57:45.291338Z"
    }
   },
   "cell_type": "code",
   "source": [
    "Z = np.zeros(10)\n",
    "Z.flags.writeable = False\n",
    "Z[0] = 1"
   ],
   "id": "4adb8eb91a3302e4",
   "outputs": [
    {
     "ename": "ValueError",
     "evalue": "assignment destination is read-only",
     "output_type": "error",
     "traceback": [
      "\u001B[31m---------------------------------------------------------------------------\u001B[39m",
      "\u001B[31mValueError\u001B[39m                                Traceback (most recent call last)",
      "\u001B[36mCell\u001B[39m\u001B[36m \u001B[39m\u001B[32mIn[47]\u001B[39m\u001B[32m, line 3\u001B[39m\n\u001B[32m      1\u001B[39m Z = np.zeros(\u001B[32m10\u001B[39m)\n\u001B[32m      2\u001B[39m Z.flags.writeable = \u001B[38;5;28;01mFalse\u001B[39;00m\n\u001B[32m----> \u001B[39m\u001B[32m3\u001B[39m \u001B[43mZ\u001B[49m\u001B[43m[\u001B[49m\u001B[32;43m0\u001B[39;49m\u001B[43m]\u001B[49m = \u001B[32m1\u001B[39m\n",
      "\u001B[31mValueError\u001B[39m: assignment destination is read-only"
     ]
    }
   ],
   "execution_count": 47
  },
  {
   "metadata": {
    "ExecuteTime": {
     "end_time": "2025-03-12T08:57:52.805561Z",
     "start_time": "2025-03-12T08:57:52.799676Z"
    }
   },
   "cell_type": "code",
   "source": [
    "Z = np.random.random((10,2))\n",
    "X,Y = Z[:,0], Z[:,1]\n",
    "R = np.sqrt(X**2+Y**2)\n",
    "T = np.arctan2(Y,X)\n",
    "print(R)\n",
    "print(T)"
   ],
   "id": "46485c3b7eb18e2c",
   "outputs": [
    {
     "name": "stdout",
     "output_type": "stream",
     "text": [
      "[0.92168075 0.67853462 0.37440542 0.86305126 0.71982918 0.6940002\n",
      " 1.02264636 0.6181177  0.94260267 0.7034683 ]\n",
      "[1.52245934 0.65595927 0.5558813  0.97529386 0.04286519 1.10867982\n",
      " 0.58307613 0.23262747 0.4239825  1.46421629]\n"
     ]
    }
   ],
   "execution_count": 48
  },
  {
   "metadata": {
    "ExecuteTime": {
     "end_time": "2025-03-12T08:57:58.767536Z",
     "start_time": "2025-03-12T08:57:58.761301Z"
    }
   },
   "cell_type": "code",
   "source": [
    "Z = np.random.random(10)\n",
    "Z[Z.argmax()] = 0\n",
    "print(Z)"
   ],
   "id": "1d11eff862b1cf90",
   "outputs": [
    {
     "name": "stdout",
     "output_type": "stream",
     "text": [
      "[0.38792751 0.53320471 0.5092824  0.32800723 0.         0.13152759\n",
      " 0.40359236 0.01514377 0.20856351 0.46868969]\n"
     ]
    }
   ],
   "execution_count": 49
  },
  {
   "metadata": {
    "ExecuteTime": {
     "end_time": "2025-03-12T08:58:03.594855Z",
     "start_time": "2025-03-12T08:58:03.589027Z"
    }
   },
   "cell_type": "code",
   "source": [
    "Z = np.zeros((5,5), [('x',float),('y',float)])\n",
    "Z['x'], Z['y'] = np.meshgrid(np.linspace(0,1,5),\n",
    "                             np.linspace(0,1,5))\n",
    "print(Z)"
   ],
   "id": "b59a72e6326ae1e0",
   "outputs": [
    {
     "name": "stdout",
     "output_type": "stream",
     "text": [
      "[[(0.  , 0.  ) (0.25, 0.  ) (0.5 , 0.  ) (0.75, 0.  ) (1.  , 0.  )]\n",
      " [(0.  , 0.25) (0.25, 0.25) (0.5 , 0.25) (0.75, 0.25) (1.  , 0.25)]\n",
      " [(0.  , 0.5 ) (0.25, 0.5 ) (0.5 , 0.5 ) (0.75, 0.5 ) (1.  , 0.5 )]\n",
      " [(0.  , 0.75) (0.25, 0.75) (0.5 , 0.75) (0.75, 0.75) (1.  , 0.75)]\n",
      " [(0.  , 1.  ) (0.25, 1.  ) (0.5 , 1.  ) (0.75, 1.  ) (1.  , 1.  )]]\n"
     ]
    }
   ],
   "execution_count": 50
  },
  {
   "metadata": {
    "ExecuteTime": {
     "end_time": "2025-03-12T08:58:10.169623Z",
     "start_time": "2025-03-12T08:58:10.160172Z"
    }
   },
   "cell_type": "code",
   "source": [
    "# Author: Evgeni Burovski\n",
    "\n",
    "X = np.arange(8)\n",
    "Y = X + 0.5\n",
    "C = 1.0 / np.subtract.outer(X, Y)\n",
    "print(np.linalg.det(C))"
   ],
   "id": "77cab3920b04d19f",
   "outputs": [
    {
     "name": "stdout",
     "output_type": "stream",
     "text": [
      "3638.1636371179666\n"
     ]
    }
   ],
   "execution_count": 51
  },
  {
   "metadata": {
    "ExecuteTime": {
     "end_time": "2025-03-12T08:58:17.279710Z",
     "start_time": "2025-03-12T08:58:17.273151Z"
    }
   },
   "cell_type": "code",
   "source": [
    "for dtype in [np.int8, np.int32, np.int64]:\n",
    "   print(np.iinfo(dtype).min)\n",
    "   print(np.iinfo(dtype).max)\n",
    "for dtype in [np.float32, np.float64]:\n",
    "   print(np.finfo(dtype).min)\n",
    "   print(np.finfo(dtype).max)\n",
    "   print(np.finfo(dtype).eps)"
   ],
   "id": "b735cb3ef563ae76",
   "outputs": [
    {
     "name": "stdout",
     "output_type": "stream",
     "text": [
      "-128\n",
      "127\n",
      "-2147483648\n",
      "2147483647\n",
      "-9223372036854775808\n",
      "9223372036854775807\n",
      "-3.4028235e+38\n",
      "3.4028235e+38\n",
      "1.1920929e-07\n",
      "-1.7976931348623157e+308\n",
      "1.7976931348623157e+308\n",
      "2.220446049250313e-16\n"
     ]
    }
   ],
   "execution_count": 52
  },
  {
   "metadata": {},
   "cell_type": "code",
   "source": [
    "np.set_printoptions(threshold=np.nan)\n",
    "Z = np.zeros((16,16))\n",
    "print(Z)"
   ],
   "id": "2394613778c4000",
   "outputs": [],
   "execution_count": null
  },
  {
   "metadata": {
    "ExecuteTime": {
     "end_time": "2025-03-12T08:59:41.244362Z",
     "start_time": "2025-03-12T08:59:41.231631Z"
    }
   },
   "cell_type": "code",
   "source": [
    "Z = np.arange(100)\n",
    "v = np.random.uniform(0,100)\n",
    "index = (np.abs(Z-v)).argmin()\n",
    "print(Z[index])"
   ],
   "id": "c16f97008d94f060",
   "outputs": [
    {
     "name": "stdout",
     "output_type": "stream",
     "text": [
      "53\n"
     ]
    }
   ],
   "execution_count": 55
  },
  {
   "metadata": {
    "ExecuteTime": {
     "end_time": "2025-03-12T08:59:47.165544Z",
     "start_time": "2025-03-12T08:59:47.160983Z"
    }
   },
   "cell_type": "code",
   "source": [
    "Z = np.zeros(10, [ ('position', [ ('x', float, 1),\n",
    "                                  ('y', float, 1)]),\n",
    "                   ('color',    [ ('r', float, 1),\n",
    "                                  ('g', float, 1),\n",
    "                                  ('b', float, 1)])])\n",
    "print(Z)"
   ],
   "id": "ec8613a2333a0287",
   "outputs": [
    {
     "name": "stdout",
     "output_type": "stream",
     "text": [
      "[(([0.], [0.]), ([0.], [0.], [0.])) (([0.], [0.]), ([0.], [0.], [0.]))\n",
      " (([0.], [0.]), ([0.], [0.], [0.])) (([0.], [0.]), ([0.], [0.], [0.]))\n",
      " (([0.], [0.]), ([0.], [0.], [0.])) (([0.], [0.]), ([0.], [0.], [0.]))\n",
      " (([0.], [0.]), ([0.], [0.], [0.])) (([0.], [0.]), ([0.], [0.], [0.]))\n",
      " (([0.], [0.]), ([0.], [0.], [0.])) (([0.], [0.]), ([0.], [0.], [0.]))]\n"
     ]
    }
   ],
   "execution_count": 56
  },
  {
   "metadata": {
    "ExecuteTime": {
     "end_time": "2025-03-12T09:01:00.825060Z",
     "start_time": "2025-03-12T09:01:00.367807Z"
    }
   },
   "cell_type": "code",
   "source": [
    "Z = np.random.random((10,2))\n",
    "X,Y = np.atleast_2d(Z[:,0], Z[:,1])\n",
    "D = np.sqrt( (X-X.T)**2 + (Y-Y.T)**2)\n",
    "print(D)\n",
    "\n",
    "# Much faster with scipy\n",
    "import scipy\n",
    "# Thanks Gavin Heverly-Coulson (#issue 1)\n",
    "import scipy.spatial\n",
    "\n",
    "Z = np.random.random((10,2))\n",
    "D = scipy.spatial.distance.cdist(Z,Z)\n",
    "print(D)"
   ],
   "id": "8bac6f9868032de2",
   "outputs": [
    {
     "name": "stdout",
     "output_type": "stream",
     "text": [
      "[[0.         0.30569512 0.9731297  0.14087245 0.6595028  0.95816342\n",
      "  0.21974065 0.65879318 0.1767917  0.92539606]\n",
      " [0.30569512 0.         0.66790599 0.29744014 0.35545867 0.66184875\n",
      "  0.27388939 0.36828145 0.15810634 0.6314731 ]\n",
      " [0.9731297  0.66790599 0.         0.93584908 0.3285408  0.15459755\n",
      "  0.87523068 0.34833404 0.8093588  0.17957042]\n",
      " [0.14087245 0.29744014 0.93584908 0.         0.6441584  0.8994427\n",
      "  0.08839198 0.60053664 0.1394334  0.8639541 ]\n",
      " [0.6595028  0.35545867 0.3285408  0.6441584  0.         0.37286981\n",
      "  0.59905403 0.20350199 0.50850136 0.3563713 ]\n",
      " [0.95816342 0.66184875 0.15459755 0.8994427  0.37286981 0.\n",
      "  0.82888365 0.30020847 0.78529913 0.03935811]\n",
      " [0.21974065 0.27388939 0.87523068 0.08839198 0.59905403 0.82888365\n",
      "  0.         0.53311579 0.13382643 0.79240566]\n",
      " [0.65879318 0.36828145 0.34833404 0.60053664 0.20350199 0.30020847\n",
      "  0.53311579 0.         0.48518052 0.26663219]\n",
      " [0.1767917  0.15810634 0.8093588  0.1394334  0.50850136 0.78529913\n",
      "  0.13382643 0.48518052 0.         0.75166476]\n",
      " [0.92539606 0.6314731  0.17957042 0.8639541  0.3563713  0.03935811\n",
      "  0.79240566 0.26663219 0.75166476 0.        ]]\n",
      "[[0.         0.77512552 0.63162346 0.95155482 0.52769392 0.49253331\n",
      "  0.94937529 0.07195793 0.14365437 0.5193853 ]\n",
      " [0.77512552 0.         0.16230263 0.5407466  0.25397056 0.78994881\n",
      "  0.41177631 0.84355811 0.70400741 0.27304674]\n",
      " [0.63162346 0.16230263 0.         0.62847391 0.10449825 0.72684257\n",
      "  0.52522221 0.70202346 0.57780098 0.11484642]\n",
      " [0.95155482 0.5407466  0.62847391 0.         0.64178145 0.64518808\n",
      "  0.15752929 0.99609613 0.81903064 0.67492878]\n",
      " [0.52769392 0.25397056 0.10449825 0.64178145 0.         0.64561861\n",
      "  0.56058645 0.59785216 0.4743058  0.03317189]\n",
      " [0.49253331 0.78994881 0.72684257 0.64518808 0.64561861 0.\n",
      "  0.72134976 0.49512634 0.35835662 0.66384542]\n",
      " [0.94937529 0.41177631 0.52522221 0.15752929 0.56058645 0.72134976\n",
      "  0.         1.00243943 0.82877765 0.59266409]\n",
      " [0.07195793 0.84355811 0.70202346 0.99609613 0.59785216 0.49512634\n",
      "  1.00243943 0.         0.17711758 0.59034994]\n",
      " [0.14365437 0.70400741 0.57780098 0.81903064 0.4743058  0.35835662\n",
      "  0.82877765 0.17711758 0.         0.47492306]\n",
      " [0.5193853  0.27304674 0.11484642 0.67492878 0.03317189 0.66384542\n",
      "  0.59266409 0.59034994 0.47492306 0.        ]]\n"
     ]
    }
   ],
   "execution_count": 58
  },
  {
   "metadata": {
    "ExecuteTime": {
     "end_time": "2025-03-12T09:01:11.310322Z",
     "start_time": "2025-03-12T09:01:11.303455Z"
    }
   },
   "cell_type": "code",
   "source": [
    "Z = np.arange(10, dtype=np.float32)\n",
    "Z = Z.astype(np.int32, copy=False)\n",
    "print(Z)"
   ],
   "id": "70916d19dc54645d",
   "outputs": [
    {
     "name": "stdout",
     "output_type": "stream",
     "text": [
      "[0 1 2 3 4 5 6 7 8 9]\n"
     ]
    }
   ],
   "execution_count": 59
  },
  {
   "metadata": {
    "ExecuteTime": {
     "end_time": "2025-03-13T04:21:47.873679Z",
     "start_time": "2025-03-13T04:21:47.827415Z"
    }
   },
   "cell_type": "code",
   "source": [
    "from io import StringIO\n",
    "\n",
    "# Fake file\n",
    "s = StringIO(\"\"\"1, 2, 3, 4, 5\\n\n",
    "                6,  ,  , 7, 8\\n\n",
    "                 ,  , 9,10,11\\n\"\"\")\n",
    "Z = np.genfromtxt(s, delimiter=\",\", dtype=np.int, missing_values=' ')\n",
    "print(Z)"
   ],
   "id": "b4e5edc6622c5f33",
   "outputs": [
    {
     "ename": "AttributeError",
     "evalue": "module 'numpy' has no attribute 'int'.\n`np.int` was a deprecated alias for the builtin `int`. To avoid this error in existing code, use `int` by itself. Doing this will not modify any behavior and is safe. When replacing `np.int`, you may wish to use e.g. `np.int64` or `np.int32` to specify the precision. If you wish to review your current use, check the release note link for additional information.\nThe aliases was originally deprecated in NumPy 1.20; for more details and guidance see the original release note at:\n    https://numpy.org/devdocs/release/1.20.0-notes.html#deprecations",
     "output_type": "error",
     "traceback": [
      "\u001B[31m---------------------------------------------------------------------------\u001B[39m",
      "\u001B[31mAttributeError\u001B[39m                            Traceback (most recent call last)",
      "\u001B[36mCell\u001B[39m\u001B[36m \u001B[39m\u001B[32mIn[4]\u001B[39m\u001B[32m, line 7\u001B[39m\n\u001B[32m      3\u001B[39m \u001B[38;5;66;03m# Fake file\u001B[39;00m\n\u001B[32m      4\u001B[39m s = StringIO(\u001B[33m\"\"\"\u001B[39m\u001B[33m1, 2, 3, 4, 5\u001B[39m\u001B[38;5;130;01m\\n\u001B[39;00m\n\u001B[32m      5\u001B[39m \u001B[33m                6,  ,  , 7, 8\u001B[39m\u001B[38;5;130;01m\\n\u001B[39;00m\n\u001B[32m      6\u001B[39m \u001B[33m                 ,  , 9,10,11\u001B[39m\u001B[38;5;130;01m\\n\u001B[39;00m\u001B[33m\"\"\"\u001B[39m)\n\u001B[32m----> \u001B[39m\u001B[32m7\u001B[39m Z = np.genfromtxt(s, delimiter=\u001B[33m\"\u001B[39m\u001B[33m,\u001B[39m\u001B[33m\"\u001B[39m, dtype=\u001B[43mnp\u001B[49m\u001B[43m.\u001B[49m\u001B[43mint\u001B[49m, missing_values=\u001B[33m'\u001B[39m\u001B[33m \u001B[39m\u001B[33m'\u001B[39m)\n\u001B[32m      8\u001B[39m \u001B[38;5;28mprint\u001B[39m(Z)\n",
      "\u001B[36mFile \u001B[39m\u001B[32m~\\OneDrive\\Desktop\\python 4th\\Python sem4\\.venv1\\Lib\\site-packages\\numpy\\__init__.py:410\u001B[39m, in \u001B[36m__getattr__\u001B[39m\u001B[34m(attr)\u001B[39m\n\u001B[32m    405\u001B[39m     warnings.warn(\n\u001B[32m    406\u001B[39m         \u001B[33mf\u001B[39m\u001B[33m\"\u001B[39m\u001B[33mIn the future `np.\u001B[39m\u001B[38;5;132;01m{\u001B[39;00mattr\u001B[38;5;132;01m}\u001B[39;00m\u001B[33m` will be defined as the \u001B[39m\u001B[33m\"\u001B[39m\n\u001B[32m    407\u001B[39m         \u001B[33m\"\u001B[39m\u001B[33mcorresponding NumPy scalar.\u001B[39m\u001B[33m\"\u001B[39m, \u001B[38;5;167;01mFutureWarning\u001B[39;00m, stacklevel=\u001B[32m2\u001B[39m)\n\u001B[32m    409\u001B[39m \u001B[38;5;28;01mif\u001B[39;00m attr \u001B[38;5;129;01min\u001B[39;00m __former_attrs__:\n\u001B[32m--> \u001B[39m\u001B[32m410\u001B[39m     \u001B[38;5;28;01mraise\u001B[39;00m \u001B[38;5;167;01mAttributeError\u001B[39;00m(__former_attrs__[attr], name=\u001B[38;5;28;01mNone\u001B[39;00m)\n\u001B[32m    412\u001B[39m \u001B[38;5;28;01mif\u001B[39;00m attr \u001B[38;5;129;01min\u001B[39;00m __expired_attributes__:\n\u001B[32m    413\u001B[39m     \u001B[38;5;28;01mraise\u001B[39;00m \u001B[38;5;167;01mAttributeError\u001B[39;00m(\n\u001B[32m    414\u001B[39m         \u001B[33mf\u001B[39m\u001B[33m\"\u001B[39m\u001B[33m`np.\u001B[39m\u001B[38;5;132;01m{\u001B[39;00mattr\u001B[38;5;132;01m}\u001B[39;00m\u001B[33m` was removed in the NumPy 2.0 release. \u001B[39m\u001B[33m\"\u001B[39m\n\u001B[32m    415\u001B[39m         \u001B[33mf\u001B[39m\u001B[33m\"\u001B[39m\u001B[38;5;132;01m{\u001B[39;00m__expired_attributes__[attr]\u001B[38;5;132;01m}\u001B[39;00m\u001B[33m\"\u001B[39m,\n\u001B[32m    416\u001B[39m         name=\u001B[38;5;28;01mNone\u001B[39;00m\n\u001B[32m    417\u001B[39m     )\n",
      "\u001B[31mAttributeError\u001B[39m: module 'numpy' has no attribute 'int'.\n`np.int` was a deprecated alias for the builtin `int`. To avoid this error in existing code, use `int` by itself. Doing this will not modify any behavior and is safe. When replacing `np.int`, you may wish to use e.g. `np.int64` or `np.int32` to specify the precision. If you wish to review your current use, check the release note link for additional information.\nThe aliases was originally deprecated in NumPy 1.20; for more details and guidance see the original release note at:\n    https://numpy.org/devdocs/release/1.20.0-notes.html#deprecations"
     ]
    }
   ],
   "execution_count": 4
  },
  {
   "metadata": {
    "ExecuteTime": {
     "end_time": "2025-03-13T04:21:59.422199Z",
     "start_time": "2025-03-13T04:21:59.393311Z"
    }
   },
   "cell_type": "code",
   "source": [
    "Z = np.arange(9).reshape(3,3)\n",
    "for index, value in np.ndenumerate(Z):\n",
    "    print(index, value)\n",
    "for index in np.ndindex(Z.shape):\n",
    "    print(index, Z[index])"
   ],
   "id": "bba97482d1babc10",
   "outputs": [
    {
     "name": "stdout",
     "output_type": "stream",
     "text": [
      "(0, 0) 0\n",
      "(0, 1) 1\n",
      "(0, 2) 2\n",
      "(1, 0) 3\n",
      "(1, 1) 4\n",
      "(1, 2) 5\n",
      "(2, 0) 6\n",
      "(2, 1) 7\n",
      "(2, 2) 8\n",
      "(0, 0) 0\n",
      "(0, 1) 1\n",
      "(0, 2) 2\n",
      "(1, 0) 3\n",
      "(1, 1) 4\n",
      "(1, 2) 5\n",
      "(2, 0) 6\n",
      "(2, 1) 7\n",
      "(2, 2) 8\n"
     ]
    }
   ],
   "execution_count": 5
  },
  {
   "metadata": {
    "ExecuteTime": {
     "end_time": "2025-03-13T04:22:09.206021Z",
     "start_time": "2025-03-13T04:22:09.189186Z"
    }
   },
   "cell_type": "code",
   "source": [
    "X, Y = np.meshgrid(np.linspace(-1,1,10), np.linspace(-1,1,10))\n",
    "D = np.sqrt(X*X+Y*Y)\n",
    "sigma, mu = 1.0, 0.0\n",
    "G = np.exp(-( (D-mu)**2 / ( 2.0 * sigma**2 ) ) )\n",
    "print(G)"
   ],
   "id": "f92bed15d09976b9",
   "outputs": [
    {
     "name": "stdout",
     "output_type": "stream",
     "text": [
      "[[0.36787944 0.44822088 0.51979489 0.57375342 0.60279818 0.60279818\n",
      "  0.57375342 0.51979489 0.44822088 0.36787944]\n",
      " [0.44822088 0.54610814 0.63331324 0.69905581 0.73444367 0.73444367\n",
      "  0.69905581 0.63331324 0.54610814 0.44822088]\n",
      " [0.51979489 0.63331324 0.73444367 0.81068432 0.85172308 0.85172308\n",
      "  0.81068432 0.73444367 0.63331324 0.51979489]\n",
      " [0.57375342 0.69905581 0.81068432 0.89483932 0.9401382  0.9401382\n",
      "  0.89483932 0.81068432 0.69905581 0.57375342]\n",
      " [0.60279818 0.73444367 0.85172308 0.9401382  0.98773022 0.98773022\n",
      "  0.9401382  0.85172308 0.73444367 0.60279818]\n",
      " [0.60279818 0.73444367 0.85172308 0.9401382  0.98773022 0.98773022\n",
      "  0.9401382  0.85172308 0.73444367 0.60279818]\n",
      " [0.57375342 0.69905581 0.81068432 0.89483932 0.9401382  0.9401382\n",
      "  0.89483932 0.81068432 0.69905581 0.57375342]\n",
      " [0.51979489 0.63331324 0.73444367 0.81068432 0.85172308 0.85172308\n",
      "  0.81068432 0.73444367 0.63331324 0.51979489]\n",
      " [0.44822088 0.54610814 0.63331324 0.69905581 0.73444367 0.73444367\n",
      "  0.69905581 0.63331324 0.54610814 0.44822088]\n",
      " [0.36787944 0.44822088 0.51979489 0.57375342 0.60279818 0.60279818\n",
      "  0.57375342 0.51979489 0.44822088 0.36787944]]\n"
     ]
    }
   ],
   "execution_count": 6
  },
  {
   "metadata": {
    "ExecuteTime": {
     "end_time": "2025-03-13T04:22:19.216791Z",
     "start_time": "2025-03-13T04:22:19.121730Z"
    }
   },
   "cell_type": "code",
   "source": [
    "# Author: Divakar\n",
    "\n",
    "n = 10\n",
    "p = 3\n",
    "Z = np.zeros((n,n))\n",
    "np.put(Z, np.random.choice(range(n*n), p, replace=False),1)\n",
    "print(Z)"
   ],
   "id": "c4c2fc1e1e05869a",
   "outputs": [
    {
     "name": "stdout",
     "output_type": "stream",
     "text": [
      "[[0. 0. 0. 0. 0. 1. 0. 0. 0. 0.]\n",
      " [0. 0. 0. 0. 0. 0. 0. 0. 0. 0.]\n",
      " [0. 0. 0. 0. 0. 0. 0. 0. 0. 0.]\n",
      " [0. 0. 0. 0. 0. 0. 0. 0. 0. 0.]\n",
      " [0. 0. 0. 0. 0. 0. 0. 0. 0. 0.]\n",
      " [0. 0. 0. 0. 0. 0. 0. 0. 0. 0.]\n",
      " [0. 0. 0. 0. 0. 0. 0. 0. 0. 0.]\n",
      " [0. 1. 0. 0. 0. 0. 0. 0. 0. 0.]\n",
      " [0. 1. 0. 0. 0. 0. 0. 0. 0. 0.]\n",
      " [0. 0. 0. 0. 0. 0. 0. 0. 0. 0.]]\n"
     ]
    }
   ],
   "execution_count": 7
  },
  {
   "metadata": {
    "ExecuteTime": {
     "end_time": "2025-03-13T04:22:53.861349Z",
     "start_time": "2025-03-13T04:22:53.854995Z"
    }
   },
   "cell_type": "code",
   "source": [
    "# Author: Warren Weckesser\n",
    "\n",
    "X = np.random.rand(5, 10)\n",
    "\n",
    "# Recent versions of numpy\n",
    "Y = X - X.mean(axis=1, keepdims=True)\n",
    "\n",
    "# Older versions of numpy\n",
    "Y = X - X.mean(axis=1).reshape(-1, 1)\n",
    "\n",
    "print(Y)"
   ],
   "id": "36998b1e64e9f6e0",
   "outputs": [
    {
     "name": "stdout",
     "output_type": "stream",
     "text": [
      "[[-0.17342916  0.01763138  0.01266955 -0.14552053  0.3125797   0.07752749\n",
      "   0.30306847 -0.1843115   0.12301335 -0.34322878]\n",
      " [-0.12616176  0.05105789  0.45939677 -0.17303158 -0.10941471 -0.12229521\n",
      "   0.46144901 -0.3500725   0.05057726 -0.14150517]\n",
      " [-0.01460713  0.1227125  -0.21589739 -0.47642417  0.15288624 -0.07922531\n",
      "   0.1237541  -0.07239154  0.4056337   0.05355899]\n",
      " [ 0.22252087 -0.36591223 -0.42553662  0.14765149 -0.32152522  0.29793588\n",
      "   0.20210299  0.30295224  0.35679852 -0.41698792]\n",
      " [ 0.18570361  0.4164791   0.20196238 -0.53584455  0.15310178 -0.0164729\n",
      "  -0.21341457 -0.25358254  0.30489344 -0.24282574]]\n"
     ]
    }
   ],
   "execution_count": 8
  },
  {
   "metadata": {
    "ExecuteTime": {
     "end_time": "2025-03-13T04:23:00.312055Z",
     "start_time": "2025-03-13T04:23:00.301502Z"
    }
   },
   "cell_type": "code",
   "source": [
    "# Author: Steve Tjoa\n",
    "\n",
    "Z = np.random.randint(0,10,(3,3))\n",
    "print(Z)\n",
    "print(Z[Z[:,1].argsort()])"
   ],
   "id": "e6e85554fe875ee2",
   "outputs": [
    {
     "name": "stdout",
     "output_type": "stream",
     "text": [
      "[[0 2 9]\n",
      " [5 3 6]\n",
      " [6 2 1]]\n",
      "[[0 2 9]\n",
      " [6 2 1]\n",
      " [5 3 6]]\n"
     ]
    }
   ],
   "execution_count": 9
  },
  {
   "metadata": {
    "ExecuteTime": {
     "end_time": "2025-03-13T04:23:07.986436Z",
     "start_time": "2025-03-13T04:23:07.980466Z"
    }
   },
   "cell_type": "code",
   "source": [
    "# Author: Warren Weckesser\n",
    "\n",
    "Z = np.random.randint(0,3,(3,10))\n",
    "print((~Z.any(axis=0)).any())"
   ],
   "id": "8ab4a063b6d4e770",
   "outputs": [
    {
     "name": "stdout",
     "output_type": "stream",
     "text": [
      "False\n"
     ]
    }
   ],
   "execution_count": 10
  },
  {
   "metadata": {
    "ExecuteTime": {
     "end_time": "2025-03-13T04:23:13.506270Z",
     "start_time": "2025-03-13T04:23:13.500702Z"
    }
   },
   "cell_type": "code",
   "source": [
    "A = np.arange(3).reshape(3,1)\n",
    "B = np.arange(3).reshape(1,3)\n",
    "it = np.nditer([A,B,None])\n",
    "for x,y,z in it: z[...] = x + y\n",
    "print(it.operands[2])"
   ],
   "id": "39dce5695c2fc28a",
   "outputs": [
    {
     "name": "stdout",
     "output_type": "stream",
     "text": [
      "[[0 1 2]\n",
      " [1 2 3]\n",
      " [2 3 4]]\n"
     ]
    }
   ],
   "execution_count": 11
  },
  {
   "metadata": {
    "ExecuteTime": {
     "end_time": "2025-03-13T04:23:18.791350Z",
     "start_time": "2025-03-13T04:23:18.783004Z"
    }
   },
   "cell_type": "code",
   "source": [
    "class NamedArray(np.ndarray):\n",
    "    def __new__(cls, array, name=\"no name\"):\n",
    "        obj = np.asarray(array).view(cls)\n",
    "        obj.name = name\n",
    "        return obj\n",
    "    def __array_finalize__(self, obj):\n",
    "        if obj is None: return\n",
    "        self.info = getattr(obj, 'name', \"no name\")\n",
    "\n",
    "Z = NamedArray(np.arange(10), \"range_10\")\n",
    "print (Z.name)"
   ],
   "id": "8d11a7a380523971",
   "outputs": [
    {
     "name": "stdout",
     "output_type": "stream",
     "text": [
      "range_10\n"
     ]
    }
   ],
   "execution_count": 12
  },
  {
   "metadata": {
    "ExecuteTime": {
     "end_time": "2025-03-13T04:23:30.588279Z",
     "start_time": "2025-03-13T04:23:30.580404Z"
    }
   },
   "cell_type": "code",
   "source": [
    "# Author: Brett Olsen\n",
    "\n",
    "Z = np.ones(10)\n",
    "I = np.random.randint(0,len(Z),20)\n",
    "Z += np.bincount(I, minlength=len(Z))\n",
    "print(Z)\n",
    "\n",
    "# Another solution\n",
    "# Author: Bartosz Telenczuk\n",
    "np.add.at(Z, I, 1)\n",
    "print(Z)"
   ],
   "id": "2f182134848e0296",
   "outputs": [
    {
     "name": "stdout",
     "output_type": "stream",
     "text": [
      "[1. 6. 1. 3. 3. 2. 6. 2. 2. 4.]\n",
      "[ 1. 11.  1.  5.  5.  3. 11.  3.  3.  7.]\n"
     ]
    }
   ],
   "execution_count": 13
  },
  {
   "metadata": {
    "ExecuteTime": {
     "end_time": "2025-03-13T04:23:41.101012Z",
     "start_time": "2025-03-13T04:23:41.094234Z"
    }
   },
   "cell_type": "code",
   "source": [
    "\n",
    "\n",
    "X = [1,2,3,4,5,6]\n",
    "I = [1,3,9,3,4,1]\n",
    "F = np.bincount(I,X)\n",
    "print(F)"
   ],
   "id": "af3a6669c9707750",
   "outputs": [
    {
     "name": "stdout",
     "output_type": "stream",
     "text": [
      "[0. 7. 0. 6. 5. 0. 0. 0. 0. 3.]\n"
     ]
    }
   ],
   "execution_count": 14
  },
  {
   "metadata": {
    "ExecuteTime": {
     "end_time": "2025-03-13T04:23:48.624474Z",
     "start_time": "2025-03-13T04:23:48.542649Z"
    }
   },
   "cell_type": "code",
   "source": [
    "# Author: Nadav Horesh\n",
    "\n",
    "w,h = 16,16\n",
    "I = np.random.randint(0,2,(h,w,3)).astype(np.ubyte)\n",
    "#Note that we should compute 256*256 first.\n",
    "#Otherwise numpy will only promote F.dtype to 'uint16' and overfolw will occur\n",
    "F = I[...,0]*(256*256) + I[...,1]*256 +I[...,2]\n",
    "n = len(np.unique(F))\n",
    "print(n)"
   ],
   "id": "e2a450772d626afa",
   "outputs": [
    {
     "ename": "OverflowError",
     "evalue": "Python integer 65536 out of bounds for uint8",
     "output_type": "error",
     "traceback": [
      "\u001B[31m---------------------------------------------------------------------------\u001B[39m",
      "\u001B[31mOverflowError\u001B[39m                             Traceback (most recent call last)",
      "\u001B[36mCell\u001B[39m\u001B[36m \u001B[39m\u001B[32mIn[15]\u001B[39m\u001B[32m, line 7\u001B[39m\n\u001B[32m      4\u001B[39m I = np.random.randint(\u001B[32m0\u001B[39m,\u001B[32m2\u001B[39m,(h,w,\u001B[32m3\u001B[39m)).astype(np.ubyte)\n\u001B[32m      5\u001B[39m \u001B[38;5;66;03m#Note that we should compute 256*256 first.\u001B[39;00m\n\u001B[32m      6\u001B[39m \u001B[38;5;66;03m#Otherwise numpy will only promote F.dtype to 'uint16' and overfolw will occur\u001B[39;00m\n\u001B[32m----> \u001B[39m\u001B[32m7\u001B[39m F = \u001B[43mI\u001B[49m\u001B[43m[\u001B[49m\u001B[43m.\u001B[49m\u001B[43m.\u001B[49m\u001B[43m.\u001B[49m\u001B[43m,\u001B[49m\u001B[32;43m0\u001B[39;49m\u001B[43m]\u001B[49m\u001B[43m*\u001B[49m\u001B[43m(\u001B[49m\u001B[32;43m256\u001B[39;49m\u001B[43m*\u001B[49m\u001B[32;43m256\u001B[39;49m\u001B[43m)\u001B[49m + I[...,\u001B[32m1\u001B[39m]*\u001B[32m256\u001B[39m +I[...,\u001B[32m2\u001B[39m]\n\u001B[32m      8\u001B[39m n = \u001B[38;5;28mlen\u001B[39m(np.unique(F))\n\u001B[32m      9\u001B[39m \u001B[38;5;28mprint\u001B[39m(n)\n",
      "\u001B[31mOverflowError\u001B[39m: Python integer 65536 out of bounds for uint8"
     ]
    }
   ],
   "execution_count": 15
  },
  {
   "metadata": {
    "ExecuteTime": {
     "end_time": "2025-03-13T04:24:05.129421Z",
     "start_time": "2025-03-13T04:24:05.120990Z"
    }
   },
   "cell_type": "code",
   "source": [
    "A = np.random.randint(0,10,(3,4,3,4))\n",
    "# solution by passing a tuple of axes (introduced in numpy 1.7.0)\n",
    "sum = A.sum(axis=(-2,-1))\n",
    "print(sum)\n",
    "# solution by flattening the last two dimensions into one\n",
    "# (useful for functions that don't accept tuples for axis argument)\n",
    "sum = A.reshape(A.shape[:-2] + (-1,)).sum(axis=-1)\n",
    "print(sum)"
   ],
   "id": "74a4cbb677886625",
   "outputs": [
    {
     "name": "stdout",
     "output_type": "stream",
     "text": [
      "[[58 45 57 65]\n",
      " [44 52 51 57]\n",
      " [60 40 47 61]]\n",
      "[[58 45 57 65]\n",
      " [44 52 51 57]\n",
      " [60 40 47 61]]\n"
     ]
    }
   ],
   "execution_count": 16
  },
  {
   "metadata": {
    "ExecuteTime": {
     "end_time": "2025-03-13T04:33:44.317248Z",
     "start_time": "2025-03-13T04:33:42.669565Z"
    }
   },
   "cell_type": "code",
   "source": [
    "# Author: Jaime Fernández del Río\n",
    "\n",
    "D = np.random.uniform(0,1,100)\n",
    "S = np.random.randint(0,10,100)\n",
    "D_sums = np.bincount(S, weights=D)\n",
    "D_counts = np.bincount(S)\n",
    "D_means = D_sums / D_counts\n",
    "print(D_means)\n",
    "\n",
    "# Pandas solution as a reference due to more intuitive code\n",
    "import pandas as pd\n",
    "print(pd.Series(D).groupby(S).mean())"
   ],
   "id": "8dff860e6891aadd",
   "outputs": [
    {
     "name": "stdout",
     "output_type": "stream",
     "text": [
      "[0.61545577 0.64055428 0.66415443 0.59964151 0.36985017 0.32930316\n",
      " 0.47051488 0.54908989 0.3048797  0.49017186]\n",
      "0    0.615456\n",
      "1    0.640554\n",
      "2    0.664154\n",
      "3    0.599642\n",
      "4    0.369850\n",
      "5    0.329303\n",
      "6    0.470515\n",
      "7    0.549090\n",
      "8    0.304880\n",
      "9    0.490172\n",
      "dtype: float64\n"
     ]
    }
   ],
   "execution_count": 18
  },
  {
   "metadata": {
    "ExecuteTime": {
     "end_time": "2025-03-13T04:41:09.195925Z",
     "start_time": "2025-03-13T04:41:08.610819Z"
    }
   },
   "cell_type": "code",
   "source": [
    "# Author: Mathieu Blondel\n",
    "\n",
    "A = np.random.uniform(0,1,(5,5))\n",
    "B = np.random.uniform(0,1,(5,5))\n",
    "\n",
    "# Slow version\n",
    "np.diag(np.dot(A, B))\n",
    "\n",
    "# Fast version\n",
    "np.sum(A * B.T, axis=1)\n",
    "\n",
    "# Faster version\n",
    "np.einsum(\"ij,ji->i\", A, B)"
   ],
   "id": "b4e3110eb54d1ec6",
   "outputs": [
    {
     "data": {
      "text/plain": [
       "array([1.10061574, 0.90152914, 1.17329355, 1.09309179, 1.35443575])"
      ]
     },
     "execution_count": 19,
     "metadata": {},
     "output_type": "execute_result"
    }
   ],
   "execution_count": 19
  },
  {
   "metadata": {
    "ExecuteTime": {
     "end_time": "2025-03-13T04:41:16.820952Z",
     "start_time": "2025-03-13T04:41:16.792912Z"
    }
   },
   "cell_type": "code",
   "source": [
    "# Author: Warren Weckesser\n",
    "\n",
    "Z = np.array([1,2,3,4,5])\n",
    "nz = 3\n",
    "Z0 = np.zeros(len(Z) + (len(Z)-1)*(nz))\n",
    "Z0[::nz+1] = Z\n",
    "print(Z0)"
   ],
   "id": "675a96577de825a0",
   "outputs": [
    {
     "name": "stdout",
     "output_type": "stream",
     "text": [
      "[1. 0. 0. 0. 2. 0. 0. 0. 3. 0. 0. 0. 4. 0. 0. 0. 5.]\n"
     ]
    }
   ],
   "execution_count": 20
  },
  {
   "metadata": {
    "ExecuteTime": {
     "end_time": "2025-03-13T04:41:30.696708Z",
     "start_time": "2025-03-13T04:41:30.676Z"
    }
   },
   "cell_type": "code",
   "source": [
    "A = np.ones((5,5,3))\n",
    "B = 2*np.ones((5,5))\n",
    "print(A * B[:,:,None])"
   ],
   "id": "36bb25e832e5bee4",
   "outputs": [
    {
     "name": "stdout",
     "output_type": "stream",
     "text": [
      "[[[2. 2. 2.]\n",
      "  [2. 2. 2.]\n",
      "  [2. 2. 2.]\n",
      "  [2. 2. 2.]\n",
      "  [2. 2. 2.]]\n",
      "\n",
      " [[2. 2. 2.]\n",
      "  [2. 2. 2.]\n",
      "  [2. 2. 2.]\n",
      "  [2. 2. 2.]\n",
      "  [2. 2. 2.]]\n",
      "\n",
      " [[2. 2. 2.]\n",
      "  [2. 2. 2.]\n",
      "  [2. 2. 2.]\n",
      "  [2. 2. 2.]\n",
      "  [2. 2. 2.]]\n",
      "\n",
      " [[2. 2. 2.]\n",
      "  [2. 2. 2.]\n",
      "  [2. 2. 2.]\n",
      "  [2. 2. 2.]\n",
      "  [2. 2. 2.]]\n",
      "\n",
      " [[2. 2. 2.]\n",
      "  [2. 2. 2.]\n",
      "  [2. 2. 2.]\n",
      "  [2. 2. 2.]\n",
      "  [2. 2. 2.]]]\n"
     ]
    }
   ],
   "execution_count": 21
  },
  {
   "metadata": {
    "ExecuteTime": {
     "end_time": "2025-03-13T04:41:39.864055Z",
     "start_time": "2025-03-13T04:41:39.846976Z"
    }
   },
   "cell_type": "code",
   "source": [
    "# Author: Eelco Hoogendoorn\n",
    "\n",
    "A = np.arange(25).reshape(5,5)\n",
    "A[[0,1]] = A[[1,0]]\n",
    "print(A)"
   ],
   "id": "8ecb2fa938099aff",
   "outputs": [
    {
     "name": "stdout",
     "output_type": "stream",
     "text": [
      "[[ 5  6  7  8  9]\n",
      " [ 0  1  2  3  4]\n",
      " [10 11 12 13 14]\n",
      " [15 16 17 18 19]\n",
      " [20 21 22 23 24]]\n"
     ]
    }
   ],
   "execution_count": 22
  },
  {
   "metadata": {
    "ExecuteTime": {
     "end_time": "2025-03-13T04:41:46.662828Z",
     "start_time": "2025-03-13T04:41:46.600611Z"
    }
   },
   "cell_type": "code",
   "source": [
    "# Author: Nicolas P. Rougier\n",
    "\n",
    "faces = np.random.randint(0,100,(10,3))\n",
    "F = np.roll(faces.repeat(2,axis=1),-1,axis=1)\n",
    "F = F.reshape(len(F)*3,2)\n",
    "F = np.sort(F,axis=1)\n",
    "G = F.view( dtype=[('p0',F.dtype),('p1',F.dtype)] )\n",
    "G = np.unique(G)\n",
    "print(G)"
   ],
   "id": "f53ae8e9915baac6",
   "outputs": [
    {
     "name": "stdout",
     "output_type": "stream",
     "text": [
      "[( 2, 57) ( 2, 82) (12, 15) (12, 68) (14, 33) (14, 56) (15, 68) (17, 40)\n",
      " (17, 88) (21, 43) (21, 84) (22, 41) (22, 56) (33, 56) (33, 70) (33, 93)\n",
      " (40, 88) (41, 56) (43, 84) (46, 62) (46, 73) (53, 70) (53, 88) (57, 82)\n",
      " (58, 77) (58, 86) (62, 73) (70, 88) (70, 93) (77, 86)]\n"
     ]
    }
   ],
   "execution_count": 23
  },
  {
   "metadata": {
    "ExecuteTime": {
     "end_time": "2025-03-13T04:41:56.580191Z",
     "start_time": "2025-03-13T04:41:56.562699Z"
    }
   },
   "cell_type": "code",
   "source": [
    "# Author: Jaime Fernández del Río\n",
    "\n",
    "C = np.bincount([1,1,2,3,4,4,6])\n",
    "A = np.repeat(np.arange(len(C)), C)\n",
    "print(A)"
   ],
   "id": "d494720dff6df9ca",
   "outputs": [
    {
     "name": "stdout",
     "output_type": "stream",
     "text": [
      "[1 1 2 3 4 4 6]\n"
     ]
    }
   ],
   "execution_count": 24
  },
  {
   "metadata": {
    "ExecuteTime": {
     "end_time": "2025-03-13T04:42:03.817836Z",
     "start_time": "2025-03-13T04:42:03.796652Z"
    }
   },
   "cell_type": "code",
   "source": [
    "# Author: Jaime Fernández del Río\n",
    "\n",
    "def moving_average(a, n=3) :\n",
    "    ret = np.cumsum(a, dtype=float)\n",
    "    ret[n:] = ret[n:] - ret[:-n]\n",
    "    return ret[n - 1:] / n\n",
    "Z = np.arange(20)\n",
    "print(moving_average(Z, n=3))"
   ],
   "id": "54a52d02274fe2f5",
   "outputs": [
    {
     "name": "stdout",
     "output_type": "stream",
     "text": [
      "[ 1.  2.  3.  4.  5.  6.  7.  8.  9. 10. 11. 12. 13. 14. 15. 16. 17. 18.]\n"
     ]
    }
   ],
   "execution_count": 25
  },
  {
   "metadata": {
    "ExecuteTime": {
     "end_time": "2025-03-13T04:42:11.572730Z",
     "start_time": "2025-03-13T04:42:11.547897Z"
    }
   },
   "cell_type": "code",
   "source": [
    "# Author: Joe Kington / Erik Rigtorp\n",
    "from numpy.lib import stride_tricks\n",
    "\n",
    "def rolling(a, window):\n",
    "    shape = (a.size - window + 1, window)\n",
    "    strides = (a.itemsize, a.itemsize)\n",
    "    return stride_tricks.as_strided(a, shape=shape, strides=strides)\n",
    "Z = rolling(np.arange(10), 3)\n",
    "print(Z)"
   ],
   "id": "dfc458bbfb2260fa",
   "outputs": [
    {
     "name": "stdout",
     "output_type": "stream",
     "text": [
      "[[0 1 2]\n",
      " [1 2 3]\n",
      " [2 3 4]\n",
      " [3 4 5]\n",
      " [4 5 6]\n",
      " [5 6 7]\n",
      " [6 7 8]\n",
      " [7 8 9]]\n"
     ]
    }
   ],
   "execution_count": 26
  },
  {
   "metadata": {
    "ExecuteTime": {
     "end_time": "2025-03-13T04:42:20.031230Z",
     "start_time": "2025-03-13T04:42:20.006785Z"
    }
   },
   "cell_type": "code",
   "source": [
    "# Author: Nathaniel J. Smith\n",
    "\n",
    "Z = np.random.randint(0,2,100)\n",
    "np.logical_not(Z, out=Z)\n",
    "\n",
    "Z = np.random.uniform(-1.0,1.0,100)\n",
    "np.negative(Z, out=Z)"
   ],
   "id": "4ca29e527051e789",
   "outputs": [
    {
     "data": {
      "text/plain": [
       "array([ 0.81539846,  0.03691544,  0.35485894,  0.3203559 , -0.49690185,\n",
       "       -0.57658599,  0.08367743,  0.45881551,  0.77516252, -0.9246599 ,\n",
       "       -0.48630383, -0.60761374,  0.35839203, -0.51440362,  0.3511653 ,\n",
       "        0.18677115, -0.26324759, -0.83763683,  0.75644724,  0.22021727,\n",
       "       -0.35731219,  0.68857168, -0.69215107, -0.14076872, -0.64776725,\n",
       "       -0.8704298 ,  0.40962941,  0.76340197,  0.7154334 , -0.16187427,\n",
       "       -0.63953369,  0.50273165,  0.24575626, -0.24472642,  0.4354468 ,\n",
       "       -0.34155204,  0.60620965,  0.14434312,  0.48615374,  0.44408052,\n",
       "       -0.20788474, -0.12111207,  0.71361914, -0.29056153,  0.9604872 ,\n",
       "       -0.75825737, -0.18236114, -0.69951542,  0.06071606,  0.454865  ,\n",
       "       -0.43678669, -0.82677117,  0.81123722,  0.36332194, -0.85191886,\n",
       "       -0.92809417,  0.6912539 ,  0.95930137,  0.02240807,  0.97573082,\n",
       "       -0.4633016 , -0.59064577,  0.58034609, -0.11128018,  0.80922973,\n",
       "        0.53407451, -0.84129797,  0.62014906,  0.42778606, -0.91558977,\n",
       "       -0.60241812,  0.02954341,  0.61394182, -0.78723733, -0.13163437,\n",
       "       -0.92589944,  0.82582524,  0.2309739 ,  0.73564755,  0.38116551,\n",
       "       -0.47035284, -0.83127754,  0.2019504 , -0.89014157, -0.62326601,\n",
       "       -0.37251218, -0.33824717, -0.14872148, -0.70329304, -0.93200534,\n",
       "        0.73535921, -0.75134735,  0.23481633, -0.36901776, -0.16996643,\n",
       "       -0.02059153,  0.27705943, -0.8367889 , -0.20581558, -0.84582882])"
      ]
     },
     "execution_count": 27,
     "metadata": {},
     "output_type": "execute_result"
    }
   ],
   "execution_count": 27
  },
  {
   "metadata": {
    "ExecuteTime": {
     "end_time": "2025-03-13T04:42:28.678301Z",
     "start_time": "2025-03-13T04:42:28.668067Z"
    }
   },
   "cell_type": "code",
   "source": [
    "def distance(P0, P1, p):\n",
    "    T = P1 - P0\n",
    "    L = (T**2).sum(axis=1)\n",
    "    U = -((P0[:,0]-p[...,0])*T[:,0] + (P0[:,1]-p[...,1])*T[:,1]) / L\n",
    "    U = U.reshape(len(U),1)\n",
    "    D = P0 + U*T - p\n",
    "    return np.sqrt((D**2).sum(axis=1))\n",
    "\n",
    "P0 = np.random.uniform(-10,10,(10,2))\n",
    "P1 = np.random.uniform(-10,10,(10,2))\n",
    "p  = np.random.uniform(-10,10,( 1,2))\n",
    "print(distance(P0, P1, p))"
   ],
   "id": "58d4c2b91fac0217",
   "outputs": [
    {
     "name": "stdout",
     "output_type": "stream",
     "text": [
      "[4.52177844 6.79123431 2.41278968 0.36307728 3.30598819 7.13461709\n",
      " 2.51830836 1.15876967 2.28597942 2.12171784]\n"
     ]
    }
   ],
   "execution_count": 28
  },
  {
   "metadata": {
    "ExecuteTime": {
     "end_time": "2025-03-13T04:42:35.401345Z",
     "start_time": "2025-03-13T04:42:35.385212Z"
    }
   },
   "cell_type": "code",
   "source": [
    "# Author: Italmassov Kuanysh\n",
    "\n",
    "# based on distance function from previous question\n",
    "P0 = np.random.uniform(-10, 10, (10,2))\n",
    "P1 = np.random.uniform(-10,10,(10,2))\n",
    "p = np.random.uniform(-10, 10, (10,2))\n",
    "print(np.array([distance(P0,P1,p_i) for p_i in p]))"
   ],
   "id": "3afddd139ad86565",
   "outputs": [
    {
     "name": "stdout",
     "output_type": "stream",
     "text": [
      "[[ 9.80549586  1.59037871  6.20641219  0.08527584  2.47373791  5.95174391\n",
      "   4.3081541   1.47706134  6.2537685   9.65802877]\n",
      " [ 7.30231048  2.6016987  15.31459359 15.93430221  6.14211397 10.89354636\n",
      "  10.70913941 14.23232592  0.82715027 17.57806981]\n",
      " [ 1.00106375 15.56423482  2.13994114  2.81266937 10.70996078  0.10026269\n",
      "   3.90888498  0.56436843 11.4868773   0.07834481]\n",
      " [ 3.03771024  5.66908372  9.47011918 10.47492714  1.09488352  5.9766895\n",
      "   4.9558929   8.65918383  2.92743161 11.85925216]\n",
      " [ 7.66095063 12.73997515  4.64942461  2.99852146 10.9397752   6.24934316\n",
      "   9.17225312  5.07066423  7.60963067  1.91916812]\n",
      " [ 2.16037411 17.3005767   1.29256425  5.43017769 10.99850193  3.04535788\n",
      "   1.60374086  3.07986905 13.69930748  0.66628356]\n",
      " [12.00050129  1.82288823  1.60392753  3.5492184   1.96766607  8.80262213\n",
      "   8.16589858  5.08480306  3.44844715  5.04415336]\n",
      " [ 4.2610682   1.65864215 13.86737333 13.15704051  5.68880516  7.93349755\n",
      "   8.13620977 11.51939941  0.6175721  16.35026763]\n",
      " [ 5.06089752  8.76265657  8.28954235 11.44330933  1.08199507  7.51545848\n",
      "   5.46227339  9.47016935  6.20662381 10.43044577]\n",
      " [ 2.56109842  1.52098329 11.54577622  7.30640303  5.74136062  1.47918109\n",
      "   2.88462961  5.86252758  4.85863302 14.56499786]]\n"
     ]
    }
   ],
   "execution_count": 29
  },
  {
   "metadata": {
    "ExecuteTime": {
     "end_time": "2025-03-13T04:43:24.199719Z",
     "start_time": "2025-03-13T04:43:21.301688Z"
    }
   },
   "cell_type": "code",
   "source": [
    "# Author: Nicolas Rougier\n",
    "\n",
    "Z = np.random.randint(0,10,(10,10))\n",
    "shape = (5,5)\n",
    "fill  = 0\n",
    "position = (1,1)\n",
    "\n",
    "R = np.ones(shape, dtype=Z.dtype)*fill\n",
    "P  = np.array(list(position)).astype(int)\n",
    "Rs = np.array(list(R.shape)).astype(int)\n",
    "Zs = np.array(list(Z.shape)).astype(int)\n",
    "\n",
    "R_start = np.zeros((len(shape),)).astype(int)\n",
    "R_stop  = np.array(list(shape)).astype(int)\n",
    "Z_start = (P-Rs//2)\n",
    "Z_stop  = (P+Rs//2)+Rs%2\n",
    "\n",
    "R_start = (R_start - np.minimum(Z_start,0)).tolist()\n",
    "Z_start = (np.maximum(Z_start,0)).tolist()\n",
    "R_stop = np.maximum(R_start, (R_stop - np.maximum(Z_stop-Zs,0))).tolist()\n",
    "Z_stop = (np.minimum(Z_stop,Zs)).tolist()\n",
    "\n",
    "r = [slice(start,stop) for start,stop in zip(R_start,R_stop)]\n",
    "z = [slice(start,stop) for start,stop in zip(Z_start,Z_stop)]\n",
    "R[r] = Z[z]\n",
    "print(Z)\n",
    "print(R)"
   ],
   "id": "a9027dff892ce54",
   "outputs": [
    {
     "ename": "IndexError",
     "evalue": "only integers, slices (`:`), ellipsis (`...`), numpy.newaxis (`None`) and integer or boolean arrays are valid indices",
     "output_type": "error",
     "traceback": [
      "\u001B[31m---------------------------------------------------------------------------\u001B[39m",
      "\u001B[31mIndexError\u001B[39m                                Traceback (most recent call last)",
      "\u001B[36mCell\u001B[39m\u001B[36m \u001B[39m\u001B[32mIn[30]\u001B[39m\u001B[32m, line 25\u001B[39m\n\u001B[32m     23\u001B[39m r = [\u001B[38;5;28mslice\u001B[39m(start,stop) \u001B[38;5;28;01mfor\u001B[39;00m start,stop \u001B[38;5;129;01min\u001B[39;00m \u001B[38;5;28mzip\u001B[39m(R_start,R_stop)]\n\u001B[32m     24\u001B[39m z = [\u001B[38;5;28mslice\u001B[39m(start,stop) \u001B[38;5;28;01mfor\u001B[39;00m start,stop \u001B[38;5;129;01min\u001B[39;00m \u001B[38;5;28mzip\u001B[39m(Z_start,Z_stop)]\n\u001B[32m---> \u001B[39m\u001B[32m25\u001B[39m R[r] = \u001B[43mZ\u001B[49m\u001B[43m[\u001B[49m\u001B[43mz\u001B[49m\u001B[43m]\u001B[49m\n\u001B[32m     26\u001B[39m \u001B[38;5;28mprint\u001B[39m(Z)\n\u001B[32m     27\u001B[39m \u001B[38;5;28mprint\u001B[39m(R)\n",
      "\u001B[31mIndexError\u001B[39m: only integers, slices (`:`), ellipsis (`...`), numpy.newaxis (`None`) and integer or boolean arrays are valid indices"
     ]
    }
   ],
   "execution_count": 30
  },
  {
   "metadata": {
    "ExecuteTime": {
     "end_time": "2025-03-13T04:43:32.946824Z",
     "start_time": "2025-03-13T04:43:32.927554Z"
    }
   },
   "cell_type": "code",
   "source": [
    "# Author: Stefan van der Walt\n",
    "\n",
    "Z = np.arange(1,15,dtype=np.uint32)\n",
    "R = stride_tricks.as_strided(Z,(11,4),(4,4))\n",
    "print(R)"
   ],
   "id": "b358599a3753e896",
   "outputs": [
    {
     "name": "stdout",
     "output_type": "stream",
     "text": [
      "[[ 1  2  3  4]\n",
      " [ 2  3  4  5]\n",
      " [ 3  4  5  6]\n",
      " [ 4  5  6  7]\n",
      " [ 5  6  7  8]\n",
      " [ 6  7  8  9]\n",
      " [ 7  8  9 10]\n",
      " [ 8  9 10 11]\n",
      " [ 9 10 11 12]\n",
      " [10 11 12 13]\n",
      " [11 12 13 14]]\n"
     ]
    }
   ],
   "execution_count": 31
  },
  {
   "metadata": {
    "ExecuteTime": {
     "end_time": "2025-03-13T04:43:40.352185Z",
     "start_time": "2025-03-13T04:43:40.311409Z"
    }
   },
   "cell_type": "code",
   "source": [
    "# Author: Stefan van der Walt\n",
    "\n",
    "Z = np.random.uniform(0,1,(10,10))\n",
    "U, S, V = np.linalg.svd(Z) # Singular Value Decomposition\n",
    "rank = np.sum(S > 1e-10)\n",
    "print(rank)"
   ],
   "id": "f4894aa95900ac1e",
   "outputs": [
    {
     "name": "stdout",
     "output_type": "stream",
     "text": [
      "10\n"
     ]
    }
   ],
   "execution_count": 32
  },
  {
   "metadata": {
    "ExecuteTime": {
     "end_time": "2025-03-13T04:43:47.054500Z",
     "start_time": "2025-03-13T04:43:47.045842Z"
    }
   },
   "cell_type": "code",
   "source": [
    "Z = np.random.randint(0,10,50)\n",
    "print(np.bincount(Z).argmax())"
   ],
   "id": "74105aa0ad865fb4",
   "outputs": [
    {
     "name": "stdout",
     "output_type": "stream",
     "text": [
      "2\n"
     ]
    }
   ],
   "execution_count": 33
  },
  {
   "metadata": {},
   "cell_type": "code",
   "outputs": [],
   "execution_count": null,
   "source": "",
   "id": "dcca32812b6ecd5"
  }
 ],
 "metadata": {
  "kernelspec": {
   "display_name": "Python 3",
   "language": "python",
   "name": "python3"
  },
  "language_info": {
   "codemirror_mode": {
    "name": "ipython",
    "version": 2
   },
   "file_extension": ".py",
   "mimetype": "text/x-python",
   "name": "python",
   "nbconvert_exporter": "python",
   "pygments_lexer": "ipython2",
   "version": "2.7.6"
  }
 },
 "nbformat": 4,
 "nbformat_minor": 5
}
