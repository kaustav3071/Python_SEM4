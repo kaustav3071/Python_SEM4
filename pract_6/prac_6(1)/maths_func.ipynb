{
 "cells": [
  {
   "cell_type": "markdown",
   "id": "fecbb32b-7264-488d-b911-5d47cc9c45af",
   "metadata": {},
   "source": [
    "## Create a custom Python module with at least two functions (e.g., one that performs\n",
    "## basic arithmetic operations and one that checks if a number is even or odd). Import\n",
    "## and use this module in your main script."
   ]
  },
  {
   "cell_type": "code",
   "id": "a82703b9-529b-42c7-8100-0d6cd3f628f5",
   "metadata": {
    "ExecuteTime": {
     "end_time": "2025-02-27T04:30:25.254353Z",
     "start_time": "2025-02-27T04:30:25.248940Z"
    }
   },
   "source": [
    "def even(num):\n",
    "    if num%2==0:\n",
    "        return True\n",
    "    else:\n",
    "        return False"
   ],
   "outputs": [],
   "execution_count": 4
  },
  {
   "cell_type": "code",
   "id": "0c52935c-4895-425a-9168-9574e158f971",
   "metadata": {
    "ExecuteTime": {
     "end_time": "2025-02-27T04:30:25.281365Z",
     "start_time": "2025-02-27T04:30:25.271367Z"
    }
   },
   "source": [
    "def operation(opr,num1,num2):\n",
    "    if opr==1: # addition\n",
    "        return num1+num2\n",
    "    elif opr == 2: #substraction\n",
    "        return (num1-num2)\n",
    "    elif opr == 3:\n",
    "        return num1*num2\n",
    "    elif opr == 4:\n",
    "        return num1/num2\n",
    "    else:\n",
    "        return \"Invalid number you select\""
   ],
   "outputs": [],
   "execution_count": 5
  },
  {
   "cell_type": "code",
   "id": "3318b42b-99e3-4787-bc50-7ad73c79a205",
   "metadata": {
    "ExecuteTime": {
     "end_time": "2025-02-27T04:30:25.413260Z",
     "start_time": "2025-02-27T04:30:25.407459Z"
    }
   },
   "source": "print(even(10))",
   "outputs": [
    {
     "name": "stdout",
     "output_type": "stream",
     "text": [
      "True\n"
     ]
    }
   ],
   "execution_count": 6
  },
  {
   "metadata": {
    "ExecuteTime": {
     "end_time": "2025-02-27T04:31:03.041977Z",
     "start_time": "2025-02-27T04:31:03.036677Z"
    }
   },
   "cell_type": "code",
   "source": "print(operation(2,3,4))",
   "id": "3dd68fb3fc7b184a",
   "outputs": [
    {
     "name": "stdout",
     "output_type": "stream",
     "text": [
      "-1\n"
     ]
    }
   ],
   "execution_count": 7
  },
  {
   "metadata": {},
   "cell_type": "code",
   "outputs": [],
   "execution_count": null,
   "source": "",
   "id": "4b0abe4732d92c4b"
  }
 ],
 "metadata": {
  "kernelspec": {
   "display_name": "Python 3 (ipykernel)",
   "language": "python",
   "name": "python3"
  },
  "language_info": {
   "codemirror_mode": {
    "name": "ipython",
    "version": 3
   },
   "file_extension": ".py",
   "mimetype": "text/x-python",
   "name": "python",
   "nbconvert_exporter": "python",
   "pygments_lexer": "ipython3",
   "version": "3.12.9"
  }
 },
 "nbformat": 4,
 "nbformat_minor": 5
}
